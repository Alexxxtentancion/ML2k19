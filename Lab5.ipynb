{
 "cells": [
  {
   "cell_type": "code",
   "execution_count": 265,
   "metadata": {},
   "outputs": [],
   "source": [
    "import numpy as np\n",
    "import pandas as pd\n",
    "from typing import Dict, Tuple\n",
    "from scipy import stats\n",
    "from sklearn.datasets import load_iris, load_diabetes\n",
    "from sklearn.model_selection import train_test_split\n",
    "from sklearn.neighbors import KNeighborsRegressor, KNeighborsClassifier\n",
    "from sklearn.metrics import accuracy_score, balanced_accuracy_score\n",
    "from sklearn.metrics import precision_score, recall_score, f1_score, classification_report\n",
    "from sklearn.metrics import confusion_matrix\n",
    "from sklearn.metrics import mean_absolute_error, mean_squared_error, mean_squared_log_error, median_absolute_error, r2_score \n",
    "from sklearn.metrics import roc_curve, roc_auc_score\n",
    "from sklearn.linear_model import LinearRegression\n",
    "from sklearn.linear_model import SGDRegressor\n",
    "from sklearn.linear_model import SGDClassifier\n",
    "from sklearn.tree import DecisionTreeClassifier, DecisionTreeRegressor, export_graphviz\n",
    "from sklearn.svm import SVC, NuSVC, LinearSVC, OneClassSVM, SVR, NuSVR, LinearSVR\n",
    "import seaborn as sns\n",
    "import matplotlib.pyplot as plt\n",
    "from sklearn.metrics import accuracy_score\n",
    "%matplotlib inline \n",
    "sns.set(style=\"ticks\")"
   ]
  },
  {
   "cell_type": "code",
   "execution_count": 186,
   "metadata": {},
   "outputs": [],
   "source": [
    "diabetes = load_diabetes()"
   ]
  },
  {
   "cell_type": "code",
   "execution_count": 187,
   "metadata": {},
   "outputs": [
    {
     "data": {
      "text/plain": [
       "dict_keys(['data', 'target', 'DESCR', 'feature_names', 'data_filename', 'target_filename'])"
      ]
     },
     "execution_count": 187,
     "metadata": {},
     "output_type": "execute_result"
    }
   ],
   "source": [
    "df_diabetes = pd.DataFrame(diabetes.data,columns = diabetes.feature_names)\n",
    "df_diabetes['target'] = pd.Series(diabetes.target)\n",
    "diabetes.keys()"
   ]
  },
  {
   "cell_type": "code",
   "execution_count": 188,
   "metadata": {},
   "outputs": [
    {
     "data": {
      "text/html": [
       "<style  type=\"text/css\" >\n",
       "    #T_99b5adc6_610c_11e9_a526_e470b8ee1e6brow0_col0 {\n",
       "            background-color:  #b40426;\n",
       "        }    #T_99b5adc6_610c_11e9_a526_e470b8ee1e6brow0_col1 {\n",
       "            background-color:  #c0d4f5;\n",
       "        }    #T_99b5adc6_610c_11e9_a526_e470b8ee1e6brow0_col2 {\n",
       "            background-color:  #c1d4f4;\n",
       "        }    #T_99b5adc6_610c_11e9_a526_e470b8ee1e6brow0_col3 {\n",
       "            background-color:  #cbd8ee;\n",
       "        }    #T_99b5adc6_610c_11e9_a526_e470b8ee1e6brow0_col4 {\n",
       "            background-color:  #86a9fc;\n",
       "        }    #T_99b5adc6_610c_11e9_a526_e470b8ee1e6brow0_col5 {\n",
       "            background-color:  #aec9fc;\n",
       "        }    #T_99b5adc6_610c_11e9_a526_e470b8ee1e6brow0_col6 {\n",
       "            background-color:  #bad0f8;\n",
       "        }    #T_99b5adc6_610c_11e9_a526_e470b8ee1e6brow0_col7 {\n",
       "            background-color:  #e7d7ce;\n",
       "        }    #T_99b5adc6_610c_11e9_a526_e470b8ee1e6brow0_col8 {\n",
       "            background-color:  #d7dce3;\n",
       "        }    #T_99b5adc6_610c_11e9_a526_e470b8ee1e6brow0_col9 {\n",
       "            background-color:  #cfdaea;\n",
       "        }    #T_99b5adc6_610c_11e9_a526_e470b8ee1e6brow0_col10 {\n",
       "            background-color:  #c5d6f2;\n",
       "        }    #T_99b5adc6_610c_11e9_a526_e470b8ee1e6brow1_col0 {\n",
       "            background-color:  #86a9fc;\n",
       "        }    #T_99b5adc6_610c_11e9_a526_e470b8ee1e6brow1_col1 {\n",
       "            background-color:  #b40426;\n",
       "        }    #T_99b5adc6_610c_11e9_a526_e470b8ee1e6brow1_col2 {\n",
       "            background-color:  #aac7fd;\n",
       "        }    #T_99b5adc6_610c_11e9_a526_e470b8ee1e6brow1_col3 {\n",
       "            background-color:  #b2ccfb;\n",
       "        }    #T_99b5adc6_610c_11e9_a526_e470b8ee1e6brow1_col4 {\n",
       "            background-color:  #3b4cc0;\n",
       "        }    #T_99b5adc6_610c_11e9_a526_e470b8ee1e6brow1_col5 {\n",
       "            background-color:  #98b9ff;\n",
       "        }    #T_99b5adc6_610c_11e9_a526_e470b8ee1e6brow1_col6 {\n",
       "            background-color:  #7da0f9;\n",
       "        }    #T_99b5adc6_610c_11e9_a526_e470b8ee1e6brow1_col7 {\n",
       "            background-color:  #f3c7b1;\n",
       "        }    #T_99b5adc6_610c_11e9_a526_e470b8ee1e6brow1_col8 {\n",
       "            background-color:  #bed2f6;\n",
       "        }    #T_99b5adc6_610c_11e9_a526_e470b8ee1e6brow1_col9 {\n",
       "            background-color:  #b9d0f9;\n",
       "        }    #T_99b5adc6_610c_11e9_a526_e470b8ee1e6brow1_col10 {\n",
       "            background-color:  #a3c2fe;\n",
       "        }    #T_99b5adc6_610c_11e9_a526_e470b8ee1e6brow2_col0 {\n",
       "            background-color:  #89acfd;\n",
       "        }    #T_99b5adc6_610c_11e9_a526_e470b8ee1e6brow2_col1 {\n",
       "            background-color:  #abc8fd;\n",
       "        }    #T_99b5adc6_610c_11e9_a526_e470b8ee1e6brow2_col2 {\n",
       "            background-color:  #b40426;\n",
       "        }    #T_99b5adc6_610c_11e9_a526_e470b8ee1e6brow2_col3 {\n",
       "            background-color:  #d9dce1;\n",
       "        }    #T_99b5adc6_610c_11e9_a526_e470b8ee1e6brow2_col4 {\n",
       "            background-color:  #82a6fb;\n",
       "        }    #T_99b5adc6_610c_11e9_a526_e470b8ee1e6brow2_col5 {\n",
       "            background-color:  #bad0f8;\n",
       "        }    #T_99b5adc6_610c_11e9_a526_e470b8ee1e6brow2_col6 {\n",
       "            background-color:  #80a3fa;\n",
       "        }    #T_99b5adc6_610c_11e9_a526_e470b8ee1e6brow2_col7 {\n",
       "            background-color:  #f7b99e;\n",
       "        }    #T_99b5adc6_610c_11e9_a526_e470b8ee1e6brow2_col8 {\n",
       "            background-color:  #f2cab5;\n",
       "        }    #T_99b5adc6_610c_11e9_a526_e470b8ee1e6brow2_col9 {\n",
       "            background-color:  #e2dad5;\n",
       "        }    #T_99b5adc6_610c_11e9_a526_e470b8ee1e6brow2_col10 {\n",
       "            background-color:  #f7aa8c;\n",
       "        }    #T_99b5adc6_610c_11e9_a526_e470b8ee1e6brow3_col0 {\n",
       "            background-color:  #bad0f8;\n",
       "        }    #T_99b5adc6_610c_11e9_a526_e470b8ee1e6brow3_col1 {\n",
       "            background-color:  #cfdaea;\n",
       "        }    #T_99b5adc6_610c_11e9_a526_e470b8ee1e6brow3_col2 {\n",
       "            background-color:  #ead4c8;\n",
       "        }    #T_99b5adc6_610c_11e9_a526_e470b8ee1e6brow3_col3 {\n",
       "            background-color:  #b40426;\n",
       "        }    #T_99b5adc6_610c_11e9_a526_e470b8ee1e6brow3_col4 {\n",
       "            background-color:  #80a3fa;\n",
       "        }    #T_99b5adc6_610c_11e9_a526_e470b8ee1e6brow3_col5 {\n",
       "            background-color:  #a5c3fe;\n",
       "        }    #T_99b5adc6_610c_11e9_a526_e470b8ee1e6brow3_col6 {\n",
       "            background-color:  #a6c4fe;\n",
       "        }    #T_99b5adc6_610c_11e9_a526_e470b8ee1e6brow3_col7 {\n",
       "            background-color:  #edd1c2;\n",
       "        }    #T_99b5adc6_610c_11e9_a526_e470b8ee1e6brow3_col8 {\n",
       "            background-color:  #ecd3c5;\n",
       "        }    #T_99b5adc6_610c_11e9_a526_e470b8ee1e6brow3_col9 {\n",
       "            background-color:  #e2dad5;\n",
       "        }    #T_99b5adc6_610c_11e9_a526_e470b8ee1e6brow3_col10 {\n",
       "            background-color:  #f2cbb7;\n",
       "        }    #T_99b5adc6_610c_11e9_a526_e470b8ee1e6brow4_col0 {\n",
       "            background-color:  #a2c1ff;\n",
       "        }    #T_99b5adc6_610c_11e9_a526_e470b8ee1e6brow4_col1 {\n",
       "            background-color:  #9ebeff;\n",
       "        }    #T_99b5adc6_610c_11e9_a526_e470b8ee1e6brow4_col2 {\n",
       "            background-color:  #cfdaea;\n",
       "        }    #T_99b5adc6_610c_11e9_a526_e470b8ee1e6brow4_col3 {\n",
       "            background-color:  #b2ccfb;\n",
       "        }    #T_99b5adc6_610c_11e9_a526_e470b8ee1e6brow4_col4 {\n",
       "            background-color:  #b40426;\n",
       "        }    #T_99b5adc6_610c_11e9_a526_e470b8ee1e6brow4_col5 {\n",
       "            background-color:  #d24b40;\n",
       "        }    #T_99b5adc6_610c_11e9_a526_e470b8ee1e6brow4_col6 {\n",
       "            background-color:  #d1dae9;\n",
       "        }    #T_99b5adc6_610c_11e9_a526_e470b8ee1e6brow4_col7 {\n",
       "            background-color:  #f59f80;\n",
       "        }    #T_99b5adc6_610c_11e9_a526_e470b8ee1e6brow4_col8 {\n",
       "            background-color:  #f7bca1;\n",
       "        }    #T_99b5adc6_610c_11e9_a526_e470b8ee1e6brow4_col9 {\n",
       "            background-color:  #d5dbe5;\n",
       "        }    #T_99b5adc6_610c_11e9_a526_e470b8ee1e6brow4_col10 {\n",
       "            background-color:  #cbd8ee;\n",
       "        }    #T_99b5adc6_610c_11e9_a526_e470b8ee1e6brow5_col0 {\n",
       "            background-color:  #96b7ff;\n",
       "        }    #T_99b5adc6_610c_11e9_a526_e470b8ee1e6brow5_col1 {\n",
       "            background-color:  #b9d0f9;\n",
       "        }    #T_99b5adc6_610c_11e9_a526_e470b8ee1e6brow5_col2 {\n",
       "            background-color:  #d2dbe8;\n",
       "        }    #T_99b5adc6_610c_11e9_a526_e470b8ee1e6brow5_col3 {\n",
       "            background-color:  #a2c1ff;\n",
       "        }    #T_99b5adc6_610c_11e9_a526_e470b8ee1e6brow5_col4 {\n",
       "            background-color:  #d85646;\n",
       "        }    #T_99b5adc6_610c_11e9_a526_e470b8ee1e6brow5_col5 {\n",
       "            background-color:  #b40426;\n",
       "        }    #T_99b5adc6_610c_11e9_a526_e470b8ee1e6brow5_col6 {\n",
       "            background-color:  #a2c1ff;\n",
       "        }    #T_99b5adc6_610c_11e9_a526_e470b8ee1e6brow5_col7 {\n",
       "            background-color:  #ed8366;\n",
       "        }    #T_99b5adc6_610c_11e9_a526_e470b8ee1e6brow5_col8 {\n",
       "            background-color:  #e0dbd8;\n",
       "        }    #T_99b5adc6_610c_11e9_a526_e470b8ee1e6brow5_col9 {\n",
       "            background-color:  #cdd9ec;\n",
       "        }    #T_99b5adc6_610c_11e9_a526_e470b8ee1e6brow5_col10 {\n",
       "            background-color:  #c3d5f4;\n",
       "        }    #T_99b5adc6_610c_11e9_a526_e470b8ee1e6brow6_col0 {\n",
       "            background-color:  #3b4cc0;\n",
       "        }    #T_99b5adc6_610c_11e9_a526_e470b8ee1e6brow6_col1 {\n",
       "            background-color:  #3b4cc0;\n",
       "        }    #T_99b5adc6_610c_11e9_a526_e470b8ee1e6brow6_col2 {\n",
       "            background-color:  #3b4cc0;\n",
       "        }    #T_99b5adc6_610c_11e9_a526_e470b8ee1e6brow6_col3 {\n",
       "            background-color:  #3b4cc0;\n",
       "        }    #T_99b5adc6_610c_11e9_a526_e470b8ee1e6brow6_col4 {\n",
       "            background-color:  #3f53c6;\n",
       "        }    #T_99b5adc6_610c_11e9_a526_e470b8ee1e6brow6_col5 {\n",
       "            background-color:  #3b4cc0;\n",
       "        }    #T_99b5adc6_610c_11e9_a526_e470b8ee1e6brow6_col6 {\n",
       "            background-color:  #b40426;\n",
       "        }    #T_99b5adc6_610c_11e9_a526_e470b8ee1e6brow6_col7 {\n",
       "            background-color:  #3b4cc0;\n",
       "        }    #T_99b5adc6_610c_11e9_a526_e470b8ee1e6brow6_col8 {\n",
       "            background-color:  #3b4cc0;\n",
       "        }    #T_99b5adc6_610c_11e9_a526_e470b8ee1e6brow6_col9 {\n",
       "            background-color:  #3b4cc0;\n",
       "        }    #T_99b5adc6_610c_11e9_a526_e470b8ee1e6brow6_col10 {\n",
       "            background-color:  #3b4cc0;\n",
       "        }    #T_99b5adc6_610c_11e9_a526_e470b8ee1e6brow7_col0 {\n",
       "            background-color:  #90b2fe;\n",
       "        }    #T_99b5adc6_610c_11e9_a526_e470b8ee1e6brow7_col1 {\n",
       "            background-color:  #e1dad6;\n",
       "        }    #T_99b5adc6_610c_11e9_a526_e470b8ee1e6brow7_col2 {\n",
       "            background-color:  #edd1c2;\n",
       "        }    #T_99b5adc6_610c_11e9_a526_e470b8ee1e6brow7_col3 {\n",
       "            background-color:  #b6cefa;\n",
       "        }    #T_99b5adc6_610c_11e9_a526_e470b8ee1e6brow7_col4 {\n",
       "            background-color:  #e3d9d3;\n",
       "        }    #T_99b5adc6_610c_11e9_a526_e470b8ee1e6brow7_col5 {\n",
       "            background-color:  #f7a688;\n",
       "        }    #T_99b5adc6_610c_11e9_a526_e470b8ee1e6brow7_col6 {\n",
       "            background-color:  #3b4cc0;\n",
       "        }    #T_99b5adc6_610c_11e9_a526_e470b8ee1e6brow7_col7 {\n",
       "            background-color:  #b40426;\n",
       "        }    #T_99b5adc6_610c_11e9_a526_e470b8ee1e6brow7_col8 {\n",
       "            background-color:  #f6a283;\n",
       "        }    #T_99b5adc6_610c_11e9_a526_e470b8ee1e6brow7_col9 {\n",
       "            background-color:  #e7d7ce;\n",
       "        }    #T_99b5adc6_610c_11e9_a526_e470b8ee1e6brow7_col10 {\n",
       "            background-color:  #f1cdba;\n",
       "        }    #T_99b5adc6_610c_11e9_a526_e470b8ee1e6brow8_col0 {\n",
       "            background-color:  #a6c4fe;\n",
       "        }    #T_99b5adc6_610c_11e9_a526_e470b8ee1e6brow8_col1 {\n",
       "            background-color:  #bbd1f8;\n",
       "        }    #T_99b5adc6_610c_11e9_a526_e470b8ee1e6brow8_col2 {\n",
       "            background-color:  #f1ccb8;\n",
       "        }    #T_99b5adc6_610c_11e9_a526_e470b8ee1e6brow8_col3 {\n",
       "            background-color:  #d9dce1;\n",
       "        }    #T_99b5adc6_610c_11e9_a526_e470b8ee1e6brow8_col4 {\n",
       "            background-color:  #dcdddd;\n",
       "        }    #T_99b5adc6_610c_11e9_a526_e470b8ee1e6brow8_col5 {\n",
       "            background-color:  #cad8ef;\n",
       "        }    #T_99b5adc6_610c_11e9_a526_e470b8ee1e6brow8_col6 {\n",
       "            background-color:  #7a9df8;\n",
       "        }    #T_99b5adc6_610c_11e9_a526_e470b8ee1e6brow8_col7 {\n",
       "            background-color:  #f18d6f;\n",
       "        }    #T_99b5adc6_610c_11e9_a526_e470b8ee1e6brow8_col8 {\n",
       "            background-color:  #b40426;\n",
       "        }    #T_99b5adc6_610c_11e9_a526_e470b8ee1e6brow8_col9 {\n",
       "            background-color:  #efcfbf;\n",
       "        }    #T_99b5adc6_610c_11e9_a526_e470b8ee1e6brow8_col10 {\n",
       "            background-color:  #f7b093;\n",
       "        }    #T_99b5adc6_610c_11e9_a526_e470b8ee1e6brow9_col0 {\n",
       "            background-color:  #afcafc;\n",
       "        }    #T_99b5adc6_610c_11e9_a526_e470b8ee1e6brow9_col1 {\n",
       "            background-color:  #c9d7f0;\n",
       "        }    #T_99b5adc6_610c_11e9_a526_e470b8ee1e6brow9_col2 {\n",
       "            background-color:  #ead5c9;\n",
       "        }    #T_99b5adc6_610c_11e9_a526_e470b8ee1e6brow9_col3 {\n",
       "            background-color:  #d8dce2;\n",
       "        }    #T_99b5adc6_610c_11e9_a526_e470b8ee1e6brow9_col4 {\n",
       "            background-color:  #9fbfff;\n",
       "        }    #T_99b5adc6_610c_11e9_a526_e470b8ee1e6brow9_col5 {\n",
       "            background-color:  #c3d5f4;\n",
       "        }    #T_99b5adc6_610c_11e9_a526_e470b8ee1e6brow9_col6 {\n",
       "            background-color:  #93b5fe;\n",
       "        }    #T_99b5adc6_610c_11e9_a526_e470b8ee1e6brow9_col7 {\n",
       "            background-color:  #f7b89c;\n",
       "        }    #T_99b5adc6_610c_11e9_a526_e470b8ee1e6brow9_col8 {\n",
       "            background-color:  #f4c6af;\n",
       "        }    #T_99b5adc6_610c_11e9_a526_e470b8ee1e6brow9_col9 {\n",
       "            background-color:  #b40426;\n",
       "        }    #T_99b5adc6_610c_11e9_a526_e470b8ee1e6brow9_col10 {\n",
       "            background-color:  #ead4c8;\n",
       "        }    #T_99b5adc6_610c_11e9_a526_e470b8ee1e6brow10_col0 {\n",
       "            background-color:  #8badfd;\n",
       "        }    #T_99b5adc6_610c_11e9_a526_e470b8ee1e6brow10_col1 {\n",
       "            background-color:  #a1c0ff;\n",
       "        }    #T_99b5adc6_610c_11e9_a526_e470b8ee1e6brow10_col2 {\n",
       "            background-color:  #f7ad90;\n",
       "        }    #T_99b5adc6_610c_11e9_a526_e470b8ee1e6brow10_col3 {\n",
       "            background-color:  #e3d9d3;\n",
       "        }    #T_99b5adc6_610c_11e9_a526_e470b8ee1e6brow10_col4 {\n",
       "            background-color:  #7597f6;\n",
       "        }    #T_99b5adc6_610c_11e9_a526_e470b8ee1e6brow10_col5 {\n",
       "            background-color:  #a2c1ff;\n",
       "        }    #T_99b5adc6_610c_11e9_a526_e470b8ee1e6brow10_col6 {\n",
       "            background-color:  #7a9df8;\n",
       "        }    #T_99b5adc6_610c_11e9_a526_e470b8ee1e6brow10_col7 {\n",
       "            background-color:  #f7b599;\n",
       "        }    #T_99b5adc6_610c_11e9_a526_e470b8ee1e6brow10_col8 {\n",
       "            background-color:  #f7b093;\n",
       "        }    #T_99b5adc6_610c_11e9_a526_e470b8ee1e6brow10_col9 {\n",
       "            background-color:  #e0dbd8;\n",
       "        }    #T_99b5adc6_610c_11e9_a526_e470b8ee1e6brow10_col10 {\n",
       "            background-color:  #b40426;\n",
       "        }</style>  \n",
       "<table id=\"T_99b5adc6_610c_11e9_a526_e470b8ee1e6b\" > \n",
       "<thead>    <tr> \n",
       "        <th class=\"blank level0\" ></th> \n",
       "        <th class=\"col_heading level0 col0\" >age</th> \n",
       "        <th class=\"col_heading level0 col1\" >sex</th> \n",
       "        <th class=\"col_heading level0 col2\" >bmi</th> \n",
       "        <th class=\"col_heading level0 col3\" >bp</th> \n",
       "        <th class=\"col_heading level0 col4\" >s1</th> \n",
       "        <th class=\"col_heading level0 col5\" >s2</th> \n",
       "        <th class=\"col_heading level0 col6\" >s3</th> \n",
       "        <th class=\"col_heading level0 col7\" >s4</th> \n",
       "        <th class=\"col_heading level0 col8\" >s5</th> \n",
       "        <th class=\"col_heading level0 col9\" >s6</th> \n",
       "        <th class=\"col_heading level0 col10\" >target</th> \n",
       "    </tr></thead> \n",
       "<tbody>    <tr> \n",
       "        <th id=\"T_99b5adc6_610c_11e9_a526_e470b8ee1e6blevel0_row0\" class=\"row_heading level0 row0\" >age</th> \n",
       "        <td id=\"T_99b5adc6_610c_11e9_a526_e470b8ee1e6brow0_col0\" class=\"data row0 col0\" >1</td> \n",
       "        <td id=\"T_99b5adc6_610c_11e9_a526_e470b8ee1e6brow0_col1\" class=\"data row0 col1\" >0.173737</td> \n",
       "        <td id=\"T_99b5adc6_610c_11e9_a526_e470b8ee1e6brow0_col2\" class=\"data row0 col2\" >0.185085</td> \n",
       "        <td id=\"T_99b5adc6_610c_11e9_a526_e470b8ee1e6brow0_col3\" class=\"data row0 col3\" >0.335427</td> \n",
       "        <td id=\"T_99b5adc6_610c_11e9_a526_e470b8ee1e6brow0_col4\" class=\"data row0 col4\" >0.260061</td> \n",
       "        <td id=\"T_99b5adc6_610c_11e9_a526_e470b8ee1e6brow0_col5\" class=\"data row0 col5\" >0.219243</td> \n",
       "        <td id=\"T_99b5adc6_610c_11e9_a526_e470b8ee1e6brow0_col6\" class=\"data row0 col6\" >-0.075181</td> \n",
       "        <td id=\"T_99b5adc6_610c_11e9_a526_e470b8ee1e6brow0_col7\" class=\"data row0 col7\" >0.203841</td> \n",
       "        <td id=\"T_99b5adc6_610c_11e9_a526_e470b8ee1e6brow0_col8\" class=\"data row0 col8\" >0.270777</td> \n",
       "        <td id=\"T_99b5adc6_610c_11e9_a526_e470b8ee1e6brow0_col9\" class=\"data row0 col9\" >0.301731</td> \n",
       "        <td id=\"T_99b5adc6_610c_11e9_a526_e470b8ee1e6brow0_col10\" class=\"data row0 col10\" >0.187889</td> \n",
       "    </tr>    <tr> \n",
       "        <th id=\"T_99b5adc6_610c_11e9_a526_e470b8ee1e6blevel0_row1\" class=\"row_heading level0 row1\" >sex</th> \n",
       "        <td id=\"T_99b5adc6_610c_11e9_a526_e470b8ee1e6brow1_col0\" class=\"data row1 col0\" >0.173737</td> \n",
       "        <td id=\"T_99b5adc6_610c_11e9_a526_e470b8ee1e6brow1_col1\" class=\"data row1 col1\" >1</td> \n",
       "        <td id=\"T_99b5adc6_610c_11e9_a526_e470b8ee1e6brow1_col2\" class=\"data row1 col2\" >0.0881614</td> \n",
       "        <td id=\"T_99b5adc6_610c_11e9_a526_e470b8ee1e6brow1_col3\" class=\"data row1 col3\" >0.241013</td> \n",
       "        <td id=\"T_99b5adc6_610c_11e9_a526_e470b8ee1e6brow1_col4\" class=\"data row1 col4\" >0.0352768</td> \n",
       "        <td id=\"T_99b5adc6_610c_11e9_a526_e470b8ee1e6brow1_col5\" class=\"data row1 col5\" >0.142637</td> \n",
       "        <td id=\"T_99b5adc6_610c_11e9_a526_e470b8ee1e6brow1_col6\" class=\"data row1 col6\" >-0.37909</td> \n",
       "        <td id=\"T_99b5adc6_610c_11e9_a526_e470b8ee1e6brow1_col7\" class=\"data row1 col7\" >0.332115</td> \n",
       "        <td id=\"T_99b5adc6_610c_11e9_a526_e470b8ee1e6brow1_col8\" class=\"data row1 col8\" >0.149918</td> \n",
       "        <td id=\"T_99b5adc6_610c_11e9_a526_e470b8ee1e6brow1_col9\" class=\"data row1 col9\" >0.208133</td> \n",
       "        <td id=\"T_99b5adc6_610c_11e9_a526_e470b8ee1e6brow1_col10\" class=\"data row1 col10\" >0.043062</td> \n",
       "    </tr>    <tr> \n",
       "        <th id=\"T_99b5adc6_610c_11e9_a526_e470b8ee1e6blevel0_row2\" class=\"row_heading level0 row2\" >bmi</th> \n",
       "        <td id=\"T_99b5adc6_610c_11e9_a526_e470b8ee1e6brow2_col0\" class=\"data row2 col0\" >0.185085</td> \n",
       "        <td id=\"T_99b5adc6_610c_11e9_a526_e470b8ee1e6brow2_col1\" class=\"data row2 col1\" >0.0881614</td> \n",
       "        <td id=\"T_99b5adc6_610c_11e9_a526_e470b8ee1e6brow2_col2\" class=\"data row2 col2\" >1</td> \n",
       "        <td id=\"T_99b5adc6_610c_11e9_a526_e470b8ee1e6brow2_col3\" class=\"data row2 col3\" >0.395415</td> \n",
       "        <td id=\"T_99b5adc6_610c_11e9_a526_e470b8ee1e6brow2_col4\" class=\"data row2 col4\" >0.249777</td> \n",
       "        <td id=\"T_99b5adc6_610c_11e9_a526_e470b8ee1e6brow2_col5\" class=\"data row2 col5\" >0.26117</td> \n",
       "        <td id=\"T_99b5adc6_610c_11e9_a526_e470b8ee1e6brow2_col6\" class=\"data row2 col6\" >-0.366811</td> \n",
       "        <td id=\"T_99b5adc6_610c_11e9_a526_e470b8ee1e6brow2_col7\" class=\"data row2 col7\" >0.413807</td> \n",
       "        <td id=\"T_99b5adc6_610c_11e9_a526_e470b8ee1e6brow2_col8\" class=\"data row2 col8\" >0.446159</td> \n",
       "        <td id=\"T_99b5adc6_610c_11e9_a526_e470b8ee1e6brow2_col9\" class=\"data row2 col9\" >0.38868</td> \n",
       "        <td id=\"T_99b5adc6_610c_11e9_a526_e470b8ee1e6brow2_col10\" class=\"data row2 col10\" >0.58645</td> \n",
       "    </tr>    <tr> \n",
       "        <th id=\"T_99b5adc6_610c_11e9_a526_e470b8ee1e6blevel0_row3\" class=\"row_heading level0 row3\" >bp</th> \n",
       "        <td id=\"T_99b5adc6_610c_11e9_a526_e470b8ee1e6brow3_col0\" class=\"data row3 col0\" >0.335427</td> \n",
       "        <td id=\"T_99b5adc6_610c_11e9_a526_e470b8ee1e6brow3_col1\" class=\"data row3 col1\" >0.241013</td> \n",
       "        <td id=\"T_99b5adc6_610c_11e9_a526_e470b8ee1e6brow3_col2\" class=\"data row3 col2\" >0.395415</td> \n",
       "        <td id=\"T_99b5adc6_610c_11e9_a526_e470b8ee1e6brow3_col3\" class=\"data row3 col3\" >1</td> \n",
       "        <td id=\"T_99b5adc6_610c_11e9_a526_e470b8ee1e6brow3_col4\" class=\"data row3 col4\" >0.24247</td> \n",
       "        <td id=\"T_99b5adc6_610c_11e9_a526_e470b8ee1e6brow3_col5\" class=\"data row3 col5\" >0.185558</td> \n",
       "        <td id=\"T_99b5adc6_610c_11e9_a526_e470b8ee1e6brow3_col6\" class=\"data row3 col6\" >-0.178761</td> \n",
       "        <td id=\"T_99b5adc6_610c_11e9_a526_e470b8ee1e6brow3_col7\" class=\"data row3 col7\" >0.257653</td> \n",
       "        <td id=\"T_99b5adc6_610c_11e9_a526_e470b8ee1e6brow3_col8\" class=\"data row3 col8\" >0.393478</td> \n",
       "        <td id=\"T_99b5adc6_610c_11e9_a526_e470b8ee1e6brow3_col9\" class=\"data row3 col9\" >0.390429</td> \n",
       "        <td id=\"T_99b5adc6_610c_11e9_a526_e470b8ee1e6brow3_col10\" class=\"data row3 col10\" >0.441484</td> \n",
       "    </tr>    <tr> \n",
       "        <th id=\"T_99b5adc6_610c_11e9_a526_e470b8ee1e6blevel0_row4\" class=\"row_heading level0 row4\" >s1</th> \n",
       "        <td id=\"T_99b5adc6_610c_11e9_a526_e470b8ee1e6brow4_col0\" class=\"data row4 col0\" >0.260061</td> \n",
       "        <td id=\"T_99b5adc6_610c_11e9_a526_e470b8ee1e6brow4_col1\" class=\"data row4 col1\" >0.0352768</td> \n",
       "        <td id=\"T_99b5adc6_610c_11e9_a526_e470b8ee1e6brow4_col2\" class=\"data row4 col2\" >0.249777</td> \n",
       "        <td id=\"T_99b5adc6_610c_11e9_a526_e470b8ee1e6brow4_col3\" class=\"data row4 col3\" >0.24247</td> \n",
       "        <td id=\"T_99b5adc6_610c_11e9_a526_e470b8ee1e6brow4_col4\" class=\"data row4 col4\" >1</td> \n",
       "        <td id=\"T_99b5adc6_610c_11e9_a526_e470b8ee1e6brow4_col5\" class=\"data row4 col5\" >0.896663</td> \n",
       "        <td id=\"T_99b5adc6_610c_11e9_a526_e470b8ee1e6brow4_col6\" class=\"data row4 col6\" >0.0515194</td> \n",
       "        <td id=\"T_99b5adc6_610c_11e9_a526_e470b8ee1e6brow4_col7\" class=\"data row4 col7\" >0.542207</td> \n",
       "        <td id=\"T_99b5adc6_610c_11e9_a526_e470b8ee1e6brow4_col8\" class=\"data row4 col8\" >0.515501</td> \n",
       "        <td id=\"T_99b5adc6_610c_11e9_a526_e470b8ee1e6brow4_col9\" class=\"data row4 col9\" >0.325717</td> \n",
       "        <td id=\"T_99b5adc6_610c_11e9_a526_e470b8ee1e6brow4_col10\" class=\"data row4 col10\" >0.212022</td> \n",
       "    </tr>    <tr> \n",
       "        <th id=\"T_99b5adc6_610c_11e9_a526_e470b8ee1e6blevel0_row5\" class=\"row_heading level0 row5\" >s2</th> \n",
       "        <td id=\"T_99b5adc6_610c_11e9_a526_e470b8ee1e6brow5_col0\" class=\"data row5 col0\" >0.219243</td> \n",
       "        <td id=\"T_99b5adc6_610c_11e9_a526_e470b8ee1e6brow5_col1\" class=\"data row5 col1\" >0.142637</td> \n",
       "        <td id=\"T_99b5adc6_610c_11e9_a526_e470b8ee1e6brow5_col2\" class=\"data row5 col2\" >0.26117</td> \n",
       "        <td id=\"T_99b5adc6_610c_11e9_a526_e470b8ee1e6brow5_col3\" class=\"data row5 col3\" >0.185558</td> \n",
       "        <td id=\"T_99b5adc6_610c_11e9_a526_e470b8ee1e6brow5_col4\" class=\"data row5 col4\" >0.896663</td> \n",
       "        <td id=\"T_99b5adc6_610c_11e9_a526_e470b8ee1e6brow5_col5\" class=\"data row5 col5\" >1</td> \n",
       "        <td id=\"T_99b5adc6_610c_11e9_a526_e470b8ee1e6brow5_col6\" class=\"data row5 col6\" >-0.196455</td> \n",
       "        <td id=\"T_99b5adc6_610c_11e9_a526_e470b8ee1e6brow5_col7\" class=\"data row5 col7\" >0.659817</td> \n",
       "        <td id=\"T_99b5adc6_610c_11e9_a526_e470b8ee1e6brow5_col8\" class=\"data row5 col8\" >0.318353</td> \n",
       "        <td id=\"T_99b5adc6_610c_11e9_a526_e470b8ee1e6brow5_col9\" class=\"data row5 col9\" >0.2906</td> \n",
       "        <td id=\"T_99b5adc6_610c_11e9_a526_e470b8ee1e6brow5_col10\" class=\"data row5 col10\" >0.174054</td> \n",
       "    </tr>    <tr> \n",
       "        <th id=\"T_99b5adc6_610c_11e9_a526_e470b8ee1e6blevel0_row6\" class=\"row_heading level0 row6\" >s3</th> \n",
       "        <td id=\"T_99b5adc6_610c_11e9_a526_e470b8ee1e6brow6_col0\" class=\"data row6 col0\" >-0.075181</td> \n",
       "        <td id=\"T_99b5adc6_610c_11e9_a526_e470b8ee1e6brow6_col1\" class=\"data row6 col1\" >-0.37909</td> \n",
       "        <td id=\"T_99b5adc6_610c_11e9_a526_e470b8ee1e6brow6_col2\" class=\"data row6 col2\" >-0.366811</td> \n",
       "        <td id=\"T_99b5adc6_610c_11e9_a526_e470b8ee1e6brow6_col3\" class=\"data row6 col3\" >-0.178761</td> \n",
       "        <td id=\"T_99b5adc6_610c_11e9_a526_e470b8ee1e6brow6_col4\" class=\"data row6 col4\" >0.0515194</td> \n",
       "        <td id=\"T_99b5adc6_610c_11e9_a526_e470b8ee1e6brow6_col5\" class=\"data row6 col5\" >-0.196455</td> \n",
       "        <td id=\"T_99b5adc6_610c_11e9_a526_e470b8ee1e6brow6_col6\" class=\"data row6 col6\" >1</td> \n",
       "        <td id=\"T_99b5adc6_610c_11e9_a526_e470b8ee1e6brow6_col7\" class=\"data row6 col7\" >-0.738493</td> \n",
       "        <td id=\"T_99b5adc6_610c_11e9_a526_e470b8ee1e6brow6_col8\" class=\"data row6 col8\" >-0.398577</td> \n",
       "        <td id=\"T_99b5adc6_610c_11e9_a526_e470b8ee1e6brow6_col9\" class=\"data row6 col9\" >-0.273697</td> \n",
       "        <td id=\"T_99b5adc6_610c_11e9_a526_e470b8ee1e6brow6_col10\" class=\"data row6 col10\" >-0.394789</td> \n",
       "    </tr>    <tr> \n",
       "        <th id=\"T_99b5adc6_610c_11e9_a526_e470b8ee1e6blevel0_row7\" class=\"row_heading level0 row7\" >s4</th> \n",
       "        <td id=\"T_99b5adc6_610c_11e9_a526_e470b8ee1e6brow7_col0\" class=\"data row7 col0\" >0.203841</td> \n",
       "        <td id=\"T_99b5adc6_610c_11e9_a526_e470b8ee1e6brow7_col1\" class=\"data row7 col1\" >0.332115</td> \n",
       "        <td id=\"T_99b5adc6_610c_11e9_a526_e470b8ee1e6brow7_col2\" class=\"data row7 col2\" >0.413807</td> \n",
       "        <td id=\"T_99b5adc6_610c_11e9_a526_e470b8ee1e6brow7_col3\" class=\"data row7 col3\" >0.257653</td> \n",
       "        <td id=\"T_99b5adc6_610c_11e9_a526_e470b8ee1e6brow7_col4\" class=\"data row7 col4\" >0.542207</td> \n",
       "        <td id=\"T_99b5adc6_610c_11e9_a526_e470b8ee1e6brow7_col5\" class=\"data row7 col5\" >0.659817</td> \n",
       "        <td id=\"T_99b5adc6_610c_11e9_a526_e470b8ee1e6brow7_col6\" class=\"data row7 col6\" >-0.738493</td> \n",
       "        <td id=\"T_99b5adc6_610c_11e9_a526_e470b8ee1e6brow7_col7\" class=\"data row7 col7\" >1</td> \n",
       "        <td id=\"T_99b5adc6_610c_11e9_a526_e470b8ee1e6brow7_col8\" class=\"data row7 col8\" >0.617857</td> \n",
       "        <td id=\"T_99b5adc6_610c_11e9_a526_e470b8ee1e6brow7_col9\" class=\"data row7 col9\" >0.417212</td> \n",
       "        <td id=\"T_99b5adc6_610c_11e9_a526_e470b8ee1e6brow7_col10\" class=\"data row7 col10\" >0.430453</td> \n",
       "    </tr>    <tr> \n",
       "        <th id=\"T_99b5adc6_610c_11e9_a526_e470b8ee1e6blevel0_row8\" class=\"row_heading level0 row8\" >s5</th> \n",
       "        <td id=\"T_99b5adc6_610c_11e9_a526_e470b8ee1e6brow8_col0\" class=\"data row8 col0\" >0.270777</td> \n",
       "        <td id=\"T_99b5adc6_610c_11e9_a526_e470b8ee1e6brow8_col1\" class=\"data row8 col1\" >0.149918</td> \n",
       "        <td id=\"T_99b5adc6_610c_11e9_a526_e470b8ee1e6brow8_col2\" class=\"data row8 col2\" >0.446159</td> \n",
       "        <td id=\"T_99b5adc6_610c_11e9_a526_e470b8ee1e6brow8_col3\" class=\"data row8 col3\" >0.393478</td> \n",
       "        <td id=\"T_99b5adc6_610c_11e9_a526_e470b8ee1e6brow8_col4\" class=\"data row8 col4\" >0.515501</td> \n",
       "        <td id=\"T_99b5adc6_610c_11e9_a526_e470b8ee1e6brow8_col5\" class=\"data row8 col5\" >0.318353</td> \n",
       "        <td id=\"T_99b5adc6_610c_11e9_a526_e470b8ee1e6brow8_col6\" class=\"data row8 col6\" >-0.398577</td> \n",
       "        <td id=\"T_99b5adc6_610c_11e9_a526_e470b8ee1e6brow8_col7\" class=\"data row8 col7\" >0.617857</td> \n",
       "        <td id=\"T_99b5adc6_610c_11e9_a526_e470b8ee1e6brow8_col8\" class=\"data row8 col8\" >1</td> \n",
       "        <td id=\"T_99b5adc6_610c_11e9_a526_e470b8ee1e6brow8_col9\" class=\"data row8 col9\" >0.46467</td> \n",
       "        <td id=\"T_99b5adc6_610c_11e9_a526_e470b8ee1e6brow8_col10\" class=\"data row8 col10\" >0.565883</td> \n",
       "    </tr>    <tr> \n",
       "        <th id=\"T_99b5adc6_610c_11e9_a526_e470b8ee1e6blevel0_row9\" class=\"row_heading level0 row9\" >s6</th> \n",
       "        <td id=\"T_99b5adc6_610c_11e9_a526_e470b8ee1e6brow9_col0\" class=\"data row9 col0\" >0.301731</td> \n",
       "        <td id=\"T_99b5adc6_610c_11e9_a526_e470b8ee1e6brow9_col1\" class=\"data row9 col1\" >0.208133</td> \n",
       "        <td id=\"T_99b5adc6_610c_11e9_a526_e470b8ee1e6brow9_col2\" class=\"data row9 col2\" >0.38868</td> \n",
       "        <td id=\"T_99b5adc6_610c_11e9_a526_e470b8ee1e6brow9_col3\" class=\"data row9 col3\" >0.390429</td> \n",
       "        <td id=\"T_99b5adc6_610c_11e9_a526_e470b8ee1e6brow9_col4\" class=\"data row9 col4\" >0.325717</td> \n",
       "        <td id=\"T_99b5adc6_610c_11e9_a526_e470b8ee1e6brow9_col5\" class=\"data row9 col5\" >0.2906</td> \n",
       "        <td id=\"T_99b5adc6_610c_11e9_a526_e470b8ee1e6brow9_col6\" class=\"data row9 col6\" >-0.273697</td> \n",
       "        <td id=\"T_99b5adc6_610c_11e9_a526_e470b8ee1e6brow9_col7\" class=\"data row9 col7\" >0.417212</td> \n",
       "        <td id=\"T_99b5adc6_610c_11e9_a526_e470b8ee1e6brow9_col8\" class=\"data row9 col8\" >0.46467</td> \n",
       "        <td id=\"T_99b5adc6_610c_11e9_a526_e470b8ee1e6brow9_col9\" class=\"data row9 col9\" >1</td> \n",
       "        <td id=\"T_99b5adc6_610c_11e9_a526_e470b8ee1e6brow9_col10\" class=\"data row9 col10\" >0.382483</td> \n",
       "    </tr>    <tr> \n",
       "        <th id=\"T_99b5adc6_610c_11e9_a526_e470b8ee1e6blevel0_row10\" class=\"row_heading level0 row10\" >target</th> \n",
       "        <td id=\"T_99b5adc6_610c_11e9_a526_e470b8ee1e6brow10_col0\" class=\"data row10 col0\" >0.187889</td> \n",
       "        <td id=\"T_99b5adc6_610c_11e9_a526_e470b8ee1e6brow10_col1\" class=\"data row10 col1\" >0.043062</td> \n",
       "        <td id=\"T_99b5adc6_610c_11e9_a526_e470b8ee1e6brow10_col2\" class=\"data row10 col2\" >0.58645</td> \n",
       "        <td id=\"T_99b5adc6_610c_11e9_a526_e470b8ee1e6brow10_col3\" class=\"data row10 col3\" >0.441484</td> \n",
       "        <td id=\"T_99b5adc6_610c_11e9_a526_e470b8ee1e6brow10_col4\" class=\"data row10 col4\" >0.212022</td> \n",
       "        <td id=\"T_99b5adc6_610c_11e9_a526_e470b8ee1e6brow10_col5\" class=\"data row10 col5\" >0.174054</td> \n",
       "        <td id=\"T_99b5adc6_610c_11e9_a526_e470b8ee1e6brow10_col6\" class=\"data row10 col6\" >-0.394789</td> \n",
       "        <td id=\"T_99b5adc6_610c_11e9_a526_e470b8ee1e6brow10_col7\" class=\"data row10 col7\" >0.430453</td> \n",
       "        <td id=\"T_99b5adc6_610c_11e9_a526_e470b8ee1e6brow10_col8\" class=\"data row10 col8\" >0.565883</td> \n",
       "        <td id=\"T_99b5adc6_610c_11e9_a526_e470b8ee1e6brow10_col9\" class=\"data row10 col9\" >0.382483</td> \n",
       "        <td id=\"T_99b5adc6_610c_11e9_a526_e470b8ee1e6brow10_col10\" class=\"data row10 col10\" >1</td> \n",
       "    </tr></tbody> \n",
       "</table> "
      ],
      "text/plain": [
       "<pandas.io.formats.style.Styler at 0x2445818a0f0>"
      ]
     },
     "execution_count": 188,
     "metadata": {},
     "output_type": "execute_result"
    }
   ],
   "source": [
    "corr = df_diabetes.corr(method='pearson')\n",
    "corr.style.background_gradient(cmap='coolwarm')"
   ]
  },
  {
   "cell_type": "code",
   "execution_count": 251,
   "metadata": {
    "scrolled": true
   },
   "outputs": [],
   "source": [
    "X = diabetes['data']\n",
    "Y = diabetes['target']\n",
    "X = (X-X.mean())/X.std()\n"
   ]
  },
  {
   "cell_type": "code",
   "execution_count": 252,
   "metadata": {},
   "outputs": [
    {
     "data": {
      "text/plain": [
       "<matplotlib.axes._subplots.AxesSubplot at 0x24458bc1588>"
      ]
     },
     "execution_count": 252,
     "metadata": {},
     "output_type": "execute_result"
    },
    {
     "data": {
      "image/png": "[encoded data removed]",
      "text/plain": [
       "<Figure size 720x720 with 1 Axes>"
      ]
     },
     "metadata": {},
     "output_type": "display_data"
    }
   ],
   "source": [
    "fig, ax = plt.subplots(figsize=(10,10)) \n",
    "sns.scatterplot(ax=ax, x='bmi', y='target', data=df_diabetes)"
   ]
  },
  {
   "cell_type": "code",
   "execution_count": 253,
   "metadata": {},
   "outputs": [],
   "source": [
    "# Аналитическое вычисление коэффициентов регрессии\n",
    "def analytic_regr_coef(x_array : np.ndarray, \n",
    "                       y_array : np.ndarray) -> Tuple[float, float]:\n",
    "    x_mean = np.mean(x_array)\n",
    "    y_mean = np.mean(y_array)\n",
    "    var1 = np.sum([(x-x_mean)**2 for x in x_array])\n",
    "    cov1 = np.sum([(x-x_mean)*(y-x_mean) for x, y in zip(x_array, y_array)])\n",
    "    b1 = cov1 / var1\n",
    "    b0 = y_mean - b1*x_mean\n",
    "    return b0, b1"
   ]
  },
  {
   "cell_type": "code",
   "execution_count": 254,
   "metadata": {},
   "outputs": [],
   "source": [
    "x_array = df_diabetes['bmi'].values\n",
    "y_array = df_diabetes['target'].values\n",
    "X_train,X_test,y_train,y_test = train_test_split(x_array,y_array,random_state = 0)"
   ]
  },
  {
   "cell_type": "code",
   "execution_count": 255,
   "metadata": {},
   "outputs": [
    {
     "data": {
      "text/plain": [
       "(153.2256898080062, 1016.9235389404748)"
      ]
     },
     "execution_count": 255,
     "metadata": {},
     "output_type": "execute_result"
    }
   ],
   "source": [
    "b0,b1 = analytic_regr_coef(X_train,y_train)\n",
    "b0,b1"
   ]
  },
  {
   "cell_type": "code",
   "execution_count": 273,
   "metadata": {},
   "outputs": [
    {
     "data": {
      "text/plain": [
       "0.15772057992609445"
      ]
     },
     "execution_count": 273,
     "metadata": {},
     "output_type": "execute_result"
    }
   ],
   "source": [
    "reg1 = LinearRegression().fit(X_train.reshape(-1, 1), y_train.reshape(-1, 1))\n",
    "pred = reg1.predict(X_test.reshape(-1,1))\n",
    "reg1.score(X_test.reshape(-1,1),y_test.reshape(-1,1))\n"
   ]
  },
  {
   "cell_type": "code",
   "execution_count": 257,
   "metadata": {},
   "outputs": [],
   "source": [
    "# Вычисление значений y на основе x для регрессии\n",
    "def y_regr(X_test : np.ndarray, b0: float, b1: float) -> np.ndarray:\n",
    "    res = [b1*x+b0 for x in X_test]\n",
    "    return res"
   ]
  },
  {
   "cell_type": "code",
   "execution_count": 258,
   "metadata": {},
   "outputs": [],
   "source": [
    "y_array_regr = y_regr(X_test,b0,b1)"
   ]
  },
  {
   "cell_type": "code",
   "execution_count": 259,
   "metadata": {},
   "outputs": [
    {
     "data": {
      "image/png": "[encoded data removed]",
      "text/plain": [
       "<Figure size 432x288 with 1 Axes>"
      ]
     },
     "metadata": {},
     "output_type": "display_data"
    }
   ],
   "source": [
    "plt.plot(X_test, y_test, 'g.')\n",
    "plt.plot(X_test, y_array_regr, 'b', linewidth=2.0)\n",
    "plt.show()"
   ]
  },
  {
   "cell_type": "markdown",
   "metadata": {},
   "source": [
    "<h3>Изучем качества регресии</h3>"
   ]
  },
  {
   "cell_type": "code",
   "execution_count": 260,
   "metadata": {},
   "outputs": [
    {
     "data": {
      "text/plain": [
       "53.339879574602286"
      ]
     },
     "execution_count": 260,
     "metadata": {},
     "output_type": "execute_result"
    }
   ],
   "source": [
    "mean_absolute_error(y_test,y_array_regr)"
   ]
  },
  {
   "cell_type": "code",
   "execution_count": 261,
   "metadata": {},
   "outputs": [
    {
     "data": {
      "text/plain": [
       "4181.423410366638"
      ]
     },
     "execution_count": 261,
     "metadata": {},
     "output_type": "execute_result"
    }
   ],
   "source": [
    "mean_squared_error(y_test,y_array_regr)"
   ]
  },
  {
   "cell_type": "code",
   "execution_count": 262,
   "metadata": {},
   "outputs": [
    {
     "data": {
      "text/plain": [
       "43.027863272360065"
      ]
     },
     "execution_count": 262,
     "metadata": {},
     "output_type": "execute_result"
    }
   ],
   "source": [
    "median_absolute_error(y_test, y_array_regr)"
   ]
  },
  {
   "cell_type": "markdown",
   "metadata": {},
   "source": [
    "<h3>SVM</h3>"
   ]
  },
  {
   "cell_type": "code",
   "execution_count": 277,
   "metadata": {},
   "outputs": [],
   "source": [
    "LSVR = LinearSVR(C=1.0, max_iter=10000)"
   ]
  },
  {
   "cell_type": "code",
   "execution_count": 278,
   "metadata": {},
   "outputs": [
    {
     "name": "stderr",
     "output_type": "stream",
     "text": [
      "C:\\Users\\MI\\Anaconda3\\lib\\site-packages\\sklearn\\utils\\validation.py:761: DataConversionWarning: A column-vector y was passed when a 1d array was expected. Please change the shape of y to (n_samples, ), for example using ravel().\n",
      "  y = column_or_1d(y, warn=True)\n"
     ]
    },
    {
     "data": {
      "text/plain": [
       "-0.5595491489515287"
      ]
     },
     "execution_count": 278,
     "metadata": {},
     "output_type": "execute_result"
    }
   ],
   "source": [
    "LSVR.fit(X_train.reshape(-1, 1), y_train.reshape(-1,1))\n",
    "diabetes_y_pred = LSVR.predict(X_test.reshape(-1, 1))\n",
    "# mean_absolute_error(y_test,diabetes_y_pred)\n",
    "LSVR.score(X_test.reshape(-1,1),y_test.reshape(-1,1))"
   ]
  },
  {
   "cell_type": "code",
   "execution_count": 279,
   "metadata": {
    "scrolled": true
   },
   "outputs": [
    {
     "name": "stdout",
     "output_type": "stream",
     "text": [
      "Средняя абсолютная ошибкаа - 68.38249275094039 \n",
      "Средняя квадратическая ошибка - 7742.247009277626 \n",
      "Абсолютная ошибка по медиане - 50.72613510099035\n"
     ]
    }
   ],
   "source": [
    "mae = mean_absolute_error(y_test,diabetes_y_pred)\n",
    "mse = mean_squared_error(y_test,diabetes_y_pred)\n",
    "mdae = median_absolute_error(y_test, diabetes_y_pred)\n",
    "print(\"Средняя абсолютная ошибкаа - {} \\nСредняя квадратическая ошибка - {} \\nАбсолютная ошибка по медиане - {}\"\n",
    "      .format(mae,mse,mdae))"
   ]
  },
  {
   "cell_type": "code",
   "execution_count": 280,
   "metadata": {},
   "outputs": [],
   "source": [
    "def plot_regr(clf):\n",
    "    title = clf.__repr__\n",
    "    clf.fit(X_train.reshape(-1, 1), y_train)\n",
    "    boston_y_pred = clf.predict(X_train.reshape(-1, 1))\n",
    "    fig, ax = plt.subplots(figsize=(5,5))\n",
    "    ax.set_title(title)\n",
    "    ax.plot(X_train, y_train, 'b.')\n",
    "    ax.plot(X_test, boston_y_pred, 'ro')\n",
    "    plt.show()"
   ]
  },
  {
   "cell_type": "code",
   "execution_count": 250,
   "metadata": {},
   "outputs": [
    {
     "ename": "ValueError",
     "evalue": "x and y must have same first dimension, but have shapes (111,) and (331,)",
     "output_type": "error",
     "traceback": [
      "\u001b[1;31m---------------------------------------------------------------------------\u001b[0m",
      "\u001b[1;31mValueError\u001b[0m                                Traceback (most recent call last)",
      "\u001b[1;32m<ipython-input-250-a4e4a9299153>\u001b[0m in \u001b[0;36m<module>\u001b[1;34m\u001b[0m\n\u001b[1;32m----> 1\u001b[1;33m \u001b[0mplot_regr\u001b[0m\u001b[1;33m(\u001b[0m\u001b[0mLinearSVR\u001b[0m\u001b[1;33m(\u001b[0m\u001b[0mC\u001b[0m\u001b[1;33m=\u001b[0m\u001b[1;36m1.0\u001b[0m\u001b[1;33m,\u001b[0m \u001b[0mmax_iter\u001b[0m\u001b[1;33m=\u001b[0m\u001b[1;36m10000\u001b[0m\u001b[1;33m)\u001b[0m\u001b[1;33m)\u001b[0m\u001b[1;33m\u001b[0m\u001b[1;33m\u001b[0m\u001b[0m\n\u001b[0m",
      "\u001b[1;32m<ipython-input-249-a090346f0401>\u001b[0m in \u001b[0;36mplot_regr\u001b[1;34m(clf)\u001b[0m\n\u001b[0;32m      6\u001b[0m     \u001b[0max\u001b[0m\u001b[1;33m.\u001b[0m\u001b[0mset_title\u001b[0m\u001b[1;33m(\u001b[0m\u001b[0mtitle\u001b[0m\u001b[1;33m)\u001b[0m\u001b[1;33m\u001b[0m\u001b[1;33m\u001b[0m\u001b[0m\n\u001b[0;32m      7\u001b[0m     \u001b[0max\u001b[0m\u001b[1;33m.\u001b[0m\u001b[0mplot\u001b[0m\u001b[1;33m(\u001b[0m\u001b[0mX_train\u001b[0m\u001b[1;33m,\u001b[0m \u001b[0my_train\u001b[0m\u001b[1;33m,\u001b[0m \u001b[1;34m'b.'\u001b[0m\u001b[1;33m)\u001b[0m\u001b[1;33m\u001b[0m\u001b[1;33m\u001b[0m\u001b[0m\n\u001b[1;32m----> 8\u001b[1;33m     \u001b[0max\u001b[0m\u001b[1;33m.\u001b[0m\u001b[0mplot\u001b[0m\u001b[1;33m(\u001b[0m\u001b[0mX_test\u001b[0m\u001b[1;33m,\u001b[0m \u001b[0mboston_y_pred\u001b[0m\u001b[1;33m,\u001b[0m \u001b[1;34m'ro'\u001b[0m\u001b[1;33m)\u001b[0m\u001b[1;33m\u001b[0m\u001b[1;33m\u001b[0m\u001b[0m\n\u001b[0m\u001b[0;32m      9\u001b[0m     \u001b[0mplt\u001b[0m\u001b[1;33m.\u001b[0m\u001b[0mshow\u001b[0m\u001b[1;33m(\u001b[0m\u001b[1;33m)\u001b[0m\u001b[1;33m\u001b[0m\u001b[1;33m\u001b[0m\u001b[0m\n",
      "\u001b[1;32m~\\Anaconda3\\lib\\site-packages\\matplotlib\\__init__.py\u001b[0m in \u001b[0;36minner\u001b[1;34m(ax, data, *args, **kwargs)\u001b[0m\n\u001b[0;32m   1808\u001b[0m                         \u001b[1;34m\"the Matplotlib list!)\"\u001b[0m \u001b[1;33m%\u001b[0m \u001b[1;33m(\u001b[0m\u001b[0mlabel_namer\u001b[0m\u001b[1;33m,\u001b[0m \u001b[0mfunc\u001b[0m\u001b[1;33m.\u001b[0m\u001b[0m__name__\u001b[0m\u001b[1;33m)\u001b[0m\u001b[1;33m,\u001b[0m\u001b[1;33m\u001b[0m\u001b[1;33m\u001b[0m\u001b[0m\n\u001b[0;32m   1809\u001b[0m                         RuntimeWarning, stacklevel=2)\n\u001b[1;32m-> 1810\u001b[1;33m             \u001b[1;32mreturn\u001b[0m \u001b[0mfunc\u001b[0m\u001b[1;33m(\u001b[0m\u001b[0max\u001b[0m\u001b[1;33m,\u001b[0m \u001b[1;33m*\u001b[0m\u001b[0margs\u001b[0m\u001b[1;33m,\u001b[0m \u001b[1;33m**\u001b[0m\u001b[0mkwargs\u001b[0m\u001b[1;33m)\u001b[0m\u001b[1;33m\u001b[0m\u001b[1;33m\u001b[0m\u001b[0m\n\u001b[0m\u001b[0;32m   1811\u001b[0m \u001b[1;33m\u001b[0m\u001b[0m\n\u001b[0;32m   1812\u001b[0m         inner.__doc__ = _add_data_doc(inner.__doc__,\n",
      "\u001b[1;32m~\\Anaconda3\\lib\\site-packages\\matplotlib\\axes\\_axes.py\u001b[0m in \u001b[0;36mplot\u001b[1;34m(self, scalex, scaley, *args, **kwargs)\u001b[0m\n\u001b[0;32m   1609\u001b[0m         \u001b[0mkwargs\u001b[0m \u001b[1;33m=\u001b[0m \u001b[0mcbook\u001b[0m\u001b[1;33m.\u001b[0m\u001b[0mnormalize_kwargs\u001b[0m\u001b[1;33m(\u001b[0m\u001b[0mkwargs\u001b[0m\u001b[1;33m,\u001b[0m \u001b[0mmlines\u001b[0m\u001b[1;33m.\u001b[0m\u001b[0mLine2D\u001b[0m\u001b[1;33m.\u001b[0m\u001b[0m_alias_map\u001b[0m\u001b[1;33m)\u001b[0m\u001b[1;33m\u001b[0m\u001b[1;33m\u001b[0m\u001b[0m\n\u001b[0;32m   1610\u001b[0m \u001b[1;33m\u001b[0m\u001b[0m\n\u001b[1;32m-> 1611\u001b[1;33m         \u001b[1;32mfor\u001b[0m \u001b[0mline\u001b[0m \u001b[1;32min\u001b[0m \u001b[0mself\u001b[0m\u001b[1;33m.\u001b[0m\u001b[0m_get_lines\u001b[0m\u001b[1;33m(\u001b[0m\u001b[1;33m*\u001b[0m\u001b[0margs\u001b[0m\u001b[1;33m,\u001b[0m \u001b[1;33m**\u001b[0m\u001b[0mkwargs\u001b[0m\u001b[1;33m)\u001b[0m\u001b[1;33m:\u001b[0m\u001b[1;33m\u001b[0m\u001b[1;33m\u001b[0m\u001b[0m\n\u001b[0m\u001b[0;32m   1612\u001b[0m             \u001b[0mself\u001b[0m\u001b[1;33m.\u001b[0m\u001b[0madd_line\u001b[0m\u001b[1;33m(\u001b[0m\u001b[0mline\u001b[0m\u001b[1;33m)\u001b[0m\u001b[1;33m\u001b[0m\u001b[1;33m\u001b[0m\u001b[0m\n\u001b[0;32m   1613\u001b[0m             \u001b[0mlines\u001b[0m\u001b[1;33m.\u001b[0m\u001b[0mappend\u001b[0m\u001b[1;33m(\u001b[0m\u001b[0mline\u001b[0m\u001b[1;33m)\u001b[0m\u001b[1;33m\u001b[0m\u001b[1;33m\u001b[0m\u001b[0m\n",
      "\u001b[1;32m~\\Anaconda3\\lib\\site-packages\\matplotlib\\axes\\_base.py\u001b[0m in \u001b[0;36m_grab_next_args\u001b[1;34m(self, *args, **kwargs)\u001b[0m\n\u001b[0;32m    391\u001b[0m                 \u001b[0mthis\u001b[0m \u001b[1;33m+=\u001b[0m \u001b[0margs\u001b[0m\u001b[1;33m[\u001b[0m\u001b[1;36m0\u001b[0m\u001b[1;33m]\u001b[0m\u001b[1;33m,\u001b[0m\u001b[1;33m\u001b[0m\u001b[1;33m\u001b[0m\u001b[0m\n\u001b[0;32m    392\u001b[0m                 \u001b[0margs\u001b[0m \u001b[1;33m=\u001b[0m \u001b[0margs\u001b[0m\u001b[1;33m[\u001b[0m\u001b[1;36m1\u001b[0m\u001b[1;33m:\u001b[0m\u001b[1;33m]\u001b[0m\u001b[1;33m\u001b[0m\u001b[1;33m\u001b[0m\u001b[0m\n\u001b[1;32m--> 393\u001b[1;33m             \u001b[1;32myield\u001b[0m \u001b[1;32mfrom\u001b[0m \u001b[0mself\u001b[0m\u001b[1;33m.\u001b[0m\u001b[0m_plot_args\u001b[0m\u001b[1;33m(\u001b[0m\u001b[0mthis\u001b[0m\u001b[1;33m,\u001b[0m \u001b[0mkwargs\u001b[0m\u001b[1;33m)\u001b[0m\u001b[1;33m\u001b[0m\u001b[1;33m\u001b[0m\u001b[0m\n\u001b[0m\u001b[0;32m    394\u001b[0m \u001b[1;33m\u001b[0m\u001b[0m\n\u001b[0;32m    395\u001b[0m \u001b[1;33m\u001b[0m\u001b[0m\n",
      "\u001b[1;32m~\\Anaconda3\\lib\\site-packages\\matplotlib\\axes\\_base.py\u001b[0m in \u001b[0;36m_plot_args\u001b[1;34m(self, tup, kwargs)\u001b[0m\n\u001b[0;32m    368\u001b[0m             \u001b[0mx\u001b[0m\u001b[1;33m,\u001b[0m \u001b[0my\u001b[0m \u001b[1;33m=\u001b[0m \u001b[0mindex_of\u001b[0m\u001b[1;33m(\u001b[0m\u001b[0mtup\u001b[0m\u001b[1;33m[\u001b[0m\u001b[1;33m-\u001b[0m\u001b[1;36m1\u001b[0m\u001b[1;33m]\u001b[0m\u001b[1;33m)\u001b[0m\u001b[1;33m\u001b[0m\u001b[1;33m\u001b[0m\u001b[0m\n\u001b[0;32m    369\u001b[0m \u001b[1;33m\u001b[0m\u001b[0m\n\u001b[1;32m--> 370\u001b[1;33m         \u001b[0mx\u001b[0m\u001b[1;33m,\u001b[0m \u001b[0my\u001b[0m \u001b[1;33m=\u001b[0m \u001b[0mself\u001b[0m\u001b[1;33m.\u001b[0m\u001b[0m_xy_from_xy\u001b[0m\u001b[1;33m(\u001b[0m\u001b[0mx\u001b[0m\u001b[1;33m,\u001b[0m \u001b[0my\u001b[0m\u001b[1;33m)\u001b[0m\u001b[1;33m\u001b[0m\u001b[1;33m\u001b[0m\u001b[0m\n\u001b[0m\u001b[0;32m    371\u001b[0m \u001b[1;33m\u001b[0m\u001b[0m\n\u001b[0;32m    372\u001b[0m         \u001b[1;32mif\u001b[0m \u001b[0mself\u001b[0m\u001b[1;33m.\u001b[0m\u001b[0mcommand\u001b[0m \u001b[1;33m==\u001b[0m \u001b[1;34m'plot'\u001b[0m\u001b[1;33m:\u001b[0m\u001b[1;33m\u001b[0m\u001b[1;33m\u001b[0m\u001b[0m\n",
      "\u001b[1;32m~\\Anaconda3\\lib\\site-packages\\matplotlib\\axes\\_base.py\u001b[0m in \u001b[0;36m_xy_from_xy\u001b[1;34m(self, x, y)\u001b[0m\n\u001b[0;32m    229\u001b[0m         \u001b[1;32mif\u001b[0m \u001b[0mx\u001b[0m\u001b[1;33m.\u001b[0m\u001b[0mshape\u001b[0m\u001b[1;33m[\u001b[0m\u001b[1;36m0\u001b[0m\u001b[1;33m]\u001b[0m \u001b[1;33m!=\u001b[0m \u001b[0my\u001b[0m\u001b[1;33m.\u001b[0m\u001b[0mshape\u001b[0m\u001b[1;33m[\u001b[0m\u001b[1;36m0\u001b[0m\u001b[1;33m]\u001b[0m\u001b[1;33m:\u001b[0m\u001b[1;33m\u001b[0m\u001b[1;33m\u001b[0m\u001b[0m\n\u001b[0;32m    230\u001b[0m             raise ValueError(\"x and y must have same first dimension, but \"\n\u001b[1;32m--> 231\u001b[1;33m                              \"have shapes {} and {}\".format(x.shape, y.shape))\n\u001b[0m\u001b[0;32m    232\u001b[0m         \u001b[1;32mif\u001b[0m \u001b[0mx\u001b[0m\u001b[1;33m.\u001b[0m\u001b[0mndim\u001b[0m \u001b[1;33m>\u001b[0m \u001b[1;36m2\u001b[0m \u001b[1;32mor\u001b[0m \u001b[0my\u001b[0m\u001b[1;33m.\u001b[0m\u001b[0mndim\u001b[0m \u001b[1;33m>\u001b[0m \u001b[1;36m2\u001b[0m\u001b[1;33m:\u001b[0m\u001b[1;33m\u001b[0m\u001b[1;33m\u001b[0m\u001b[0m\n\u001b[0;32m    233\u001b[0m             raise ValueError(\"x and y can be no greater than 2-D, but have \"\n",
      "\u001b[1;31mValueError\u001b[0m: x and y must have same first dimension, but have shapes (111,) and (331,)"
     ]
    },
    {
     "data": {
      "image/png": "[encoded data removed]",
      "text/plain": [
       "<Figure size 360x360 with 1 Axes>"
      ]
     },
     "metadata": {},
     "output_type": "display_data"
    }
   ],
   "source": [
    "plot_regr(LinearSVR(C=1.0, max_iter=10000))"
   ]
  },
  {
   "cell_type": "code",
   "execution_count": 227,
   "metadata": {
    "scrolled": true
   },
   "outputs": [
    {
     "data": {
      "image/png": "[encoded data removed]",
      "text/plain": [
       "<Figure size 360x360 with 1 Axes>"
      ]
     },
     "metadata": {},
     "output_type": "display_data"
    }
   ],
   "source": [
    "plot_regr(LinearSVR(C=1.0, loss='squared_epsilon_insensitive', max_iter=10000))"
   ]
  },
  {
   "cell_type": "markdown",
   "metadata": {},
   "source": [
    "<h3>Деревья решений</h3>"
   ]
  },
  {
   "cell_type": "code",
   "execution_count": 228,
   "metadata": {},
   "outputs": [],
   "source": [
    "def plot_tree_regression(X_train, y_train, X_test):\n",
    "    \"\"\"\n",
    "    Построение деревьев и вывод графиков для заданного датасета\n",
    "    \"\"\"\n",
    "\n",
    "    # Обучение регрессионной модели\n",
    "    regr_1 = DecisionTreeRegressor(max_depth=3)\n",
    "    regr_2 = DecisionTreeRegressor(max_depth=10)\n",
    "    regr_1.fit(X_train, y_train)\n",
    "    regr_2.fit(X_train, y_train)\n",
    "\n",
    "    # Предсказание\n",
    "    y_1 = regr_1.predict(X_test)\n",
    "    y_2 = regr_2.predict(X_test)\n",
    "\n",
    "    # Вывод графика\n",
    "    fig, ax = plt.subplots(figsize=(15,7))\n",
    "    plt.scatter(X_train, y_train, s=20, edgecolor=\"black\", c=\"darkorange\", label=\"Данные\")\n",
    "    plt.plot(X_test, y_1, color=\"cornflowerblue\", label=\"max_depth=3\", linewidth=2)\n",
    "    plt.plot(X_test, y_2, color=\"yellowgreen\", label=\"max_depth=10\", linewidth=2)\n",
    "    plt.xlabel(\"Данные\")\n",
    "    plt.ylabel(\"Целевой признак\")\n",
    "    plt.title(\"Регрессия на основе дерева решений\")\n",
    "    plt.legend()\n",
    "    plt.show()"
   ]
  },
  {
   "cell_type": "code",
   "execution_count": 229,
   "metadata": {},
   "outputs": [],
   "source": [
    "\n",
    "# plot_tree_regression(X_train, y_train, X_test)"
   ]
  },
  {
   "cell_type": "code",
   "execution_count": 230,
   "metadata": {},
   "outputs": [
    {
     "name": "stdout",
     "output_type": "stream",
     "text": [
      "DecisionTreeRegressor(criterion='mse', max_depth=None, max_features=10,\n",
      "           max_leaf_nodes=None, min_impurity_decrease=0.0,\n",
      "           min_impurity_split=None, min_samples_leaf=1,\n",
      "           min_samples_split=2, min_weight_fraction_leaf=0.0,\n",
      "           presort=False, random_state=1, splitter='best')\n"
     ]
    },
    {
     "data": {
      "text/plain": [
       "['age', 'sex', 'bmi', 'bp', 's1', 's2', 's3', 's4', 's5', 's6']"
      ]
     },
     "execution_count": 230,
     "metadata": {},
     "output_type": "execute_result"
    }
   ],
   "source": [
    "tree_regr = DecisionTreeRegressor(random_state=1,max_features=10)\n",
    "tree_regr.fit(df_diabetes, diabetes.target)\n",
    "print(tree_regr)\n",
    "diabetes.feature_names"
   ]
  },
  {
   "cell_type": "code",
   "execution_count": 231,
   "metadata": {},
   "outputs": [],
   "source": [
    "from sklearn.model_selection import GridSearchCV\n",
    "from sklearn.svm import SVC"
   ]
  },
  {
   "cell_type": "code",
   "execution_count": 232,
   "metadata": {},
   "outputs": [
    {
     "data": {
      "text/plain": [
       "[{'max_iter': array([10000, 20000, 30000, 40000, 50000, 60000, 70000, 80000, 90000])}]"
      ]
     },
     "execution_count": 232,
     "metadata": {},
     "output_type": "execute_result"
    }
   ],
   "source": [
    "n_range = np.array(range(10000,100000,10000))\n",
    "tuned_parameters = [{'max_iter': n_range}]\n",
    "tuned_parameters"
   ]
  },
  {
   "cell_type": "code",
   "execution_count": 244,
   "metadata": {},
   "outputs": [
    {
     "name": "stderr",
     "output_type": "stream",
     "text": [
      "C:\\Users\\MI\\Anaconda3\\lib\\site-packages\\sklearn\\model_selection\\_split.py:2053: FutureWarning: You should specify a value for 'cv' instead of relying on the default value. The default value will change from 3 to 5 in version 0.22.\n",
      "  warnings.warn(CV_WARNING, FutureWarning)\n",
      "C:\\Users\\MI\\Anaconda3\\lib\\site-packages\\sklearn\\model_selection\\_search.py:841: DeprecationWarning: The default of the `iid` parameter will change from True to False in version 0.22 and will be removed in 0.24. This will change numeric results when test-set sizes are unequal.\n",
      "  DeprecationWarning)\n"
     ]
    },
    {
     "data": {
      "text/plain": [
       "GridSearchCV(cv='warn', error_score='raise-deprecating',\n",
       "       estimator=LinearSVR(C=1.0, dual=True, epsilon=0.0, fit_intercept=True,\n",
       "     intercept_scaling=1.0, loss='epsilon_insensitive', max_iter=1000,\n",
       "     random_state=None, tol=0.0001, verbose=0),\n",
       "       fit_params=None, iid='warn', n_jobs=None,\n",
       "       param_grid=[{'max_iter': array([10000, 20000, 30000, 40000, 50000, 60000, 70000, 80000, 90000])}],\n",
       "       pre_dispatch='2*n_jobs', refit=True, return_train_score='warn',\n",
       "       scoring=None, verbose=0)"
      ]
     },
     "execution_count": 244,
     "metadata": {},
     "output_type": "execute_result"
    }
   ],
   "source": [
    "clf_gs = GridSearchCV(LinearSVR(), tuned_parameters)\n",
    "clf_gs.fit(X_train.reshape(-1,1), y_train)"
   ]
  },
  {
   "cell_type": "code",
   "execution_count": 245,
   "metadata": {},
   "outputs": [
    {
     "data": {
      "text/plain": [
       "{'max_iter': 10000}"
      ]
     },
     "execution_count": 245,
     "metadata": {},
     "output_type": "execute_result"
    }
   ],
   "source": [
    "clf_gs.best_params_"
   ]
  },
  {
   "cell_type": "code",
   "execution_count": 246,
   "metadata": {},
   "outputs": [],
   "source": [
    "LSVR = LinearSVR(C=1.0, max_iter=70000)"
   ]
  },
  {
   "cell_type": "code",
   "execution_count": 264,
   "metadata": {},
   "outputs": [],
   "source": [
    "LSVR.fit(X_train.reshape(-1, 1), y_train)\n",
    "diabetes_y_pred = LSVR.predict(X_test.reshape(-1, 1))\n",
    "diabetes_y_pred\n",
    "# mean_absolute_error(y_train,diabetes_y_pred)"
   ]
  },
  {
   "cell_type": "code",
   "execution_count": 237,
   "metadata": {},
   "outputs": [
    {
     "data": {
      "text/plain": [
       "[{'max_depth': array([1, 2, 3, 4, 5, 6, 7, 8, 9])}]"
      ]
     },
     "execution_count": 237,
     "metadata": {},
     "output_type": "execute_result"
    }
   ],
   "source": [
    "depth_range = np.array(range(1,10))\n",
    "tuned_depth = [{'max_depth':depth_range}]\n",
    "tuned_depth"
   ]
  },
  {
   "cell_type": "code",
   "execution_count": 240,
   "metadata": {},
   "outputs": [
    {
     "name": "stderr",
     "output_type": "stream",
     "text": [
      "C:\\Users\\MI\\Anaconda3\\lib\\site-packages\\sklearn\\model_selection\\_split.py:2053: FutureWarning: You should specify a value for 'cv' instead of relying on the default value. The default value will change from 3 to 5 in version 0.22.\n",
      "  warnings.warn(CV_WARNING, FutureWarning)\n",
      "C:\\Users\\MI\\Anaconda3\\lib\\site-packages\\sklearn\\model_selection\\_search.py:841: DeprecationWarning: The default of the `iid` parameter will change from True to False in version 0.22 and will be removed in 0.24. This will change numeric results when test-set sizes are unequal.\n",
      "  DeprecationWarning)\n"
     ]
    },
    {
     "data": {
      "text/plain": [
       "GridSearchCV(cv='warn', error_score='raise-deprecating',\n",
       "       estimator=DecisionTreeRegressor(criterion='mse', max_depth=None, max_features=None,\n",
       "           max_leaf_nodes=None, min_impurity_decrease=0.0,\n",
       "           min_impurity_split=None, min_samples_leaf=1,\n",
       "           min_samples_split=2, min_weight_fraction_leaf=0.0,\n",
       "           presort=False, random_state=None, splitter='best'),\n",
       "       fit_params=None, iid='warn', n_jobs=None,\n",
       "       param_grid=[{'max_depth': array([1, 2, 3, 4, 5, 6, 7, 8, 9])}],\n",
       "       pre_dispatch='2*n_jobs', refit=True, return_train_score='warn',\n",
       "       scoring=None, verbose=0)"
      ]
     },
     "execution_count": 240,
     "metadata": {},
     "output_type": "execute_result"
    }
   ],
   "source": [
    "clf_gs = GridSearchCV(DecisionTreeRegressor(), tuned_depth)\n",
    "clf_gs.fit(X_train.reshape(-1,1), y_train)"
   ]
  },
  {
   "cell_type": "code",
   "execution_count": 241,
   "metadata": {},
   "outputs": [
    {
     "data": {
      "text/plain": [
       "{'max_depth': 2}"
      ]
     },
     "execution_count": 241,
     "metadata": {},
     "output_type": "execute_result"
    }
   ],
   "source": [
    "clf_gs.best_params_"
   ]
  },
  {
   "cell_type": "code",
   "execution_count": 242,
   "metadata": {},
   "outputs": [
    {
     "ename": "ValueError",
     "evalue": "Expected 2D array, got 1D array instead:\narray=[-0.05686312 -0.05578531 -0.0902753  -0.02560657  0.07355214  0.07462995\n -0.03854031  0.12313149 -0.04392938 -0.03099563 -0.02560657 -0.04931844\n  0.05630714 -0.05578531 -0.02237314  0.01427248  0.03798434  0.06708527\n  0.00672779  0.0164281  -0.00728377  0.00888341  0.00026092 -0.06656343\n  0.05954058  0.05630714 -0.02452876 -0.07626374 -0.03638469 -0.0374625\n  0.08540807  0.00241654  0.01535029 -0.05686312 -0.04824062 -0.0644078\n -0.03530688  0.00672779 -0.00836158  0.00457217 -0.0105172   0.12852055\n  0.07031871  0.06169621 -0.046085   -0.00836158 -0.03099563 -0.01806189\n  0.02612841  0.08540807  0.01427248 -0.04500719 -0.00297252 -0.0816528\n -0.02452876  0.01211685  0.05954058 -0.02021751 -0.03961813  0.04445121\n  0.11019775 -0.01482845  0.04121778 -0.04177375 -0.02452876  0.01966154\n -0.04177375  0.05846277  0.05954058  0.17055522  0.00457217 -0.06548562\n  0.02073935  0.0347509  -0.0816528  -0.046085   -0.03854031 -0.06117437\n -0.046085    0.10480869  0.01103904 -0.05362969 -0.05039625 -0.0547075\n  0.03043966 -0.06332999  0.06816308  0.08864151  0.07139651  0.00457217\n  0.06924089 -0.04500719 -0.07949717 -0.01590626  0.00672779 -0.06009656\n  0.06816308  0.05630714  0.04552903  0.09295276 -0.01159501  0.04984028\n -0.02345095 -0.07734155 -0.02021751  0.04984028  0.07786339 -0.03207345\n  0.03367309 -0.00620595 -0.04285156 -0.03422907 -0.02452876  0.0164281\n -0.03854031 -0.06979687  0.03151747  0.05522933  0.05954058  0.04445121\n -0.03638469 -0.0105172  -0.06548562  0.07139651  0.01750591  0.11127556\n  0.00349435  0.06492964  0.06492964 -0.00189471  0.04013997  0.09403057\n -0.02021751 -0.06656343 -0.03315126 -0.03099563  0.07139651  0.00672779\n  0.03906215  0.09295276  0.01966154  0.01427248 -0.01482845  0.03582872\n  0.03906215  0.03582872 -0.02345095  0.0164281   0.00457217 -0.06009656\n -0.05794093 -0.00836158 -0.03422907 -0.0374625  -0.03099563  0.06061839\n -0.00189471 -0.00620595 -0.07410812 -0.01267283  0.06385183  0.00996123\n -0.01590626  0.08001901 -0.03207345 -0.00512814 -0.00081689  0.04229559\n -0.01375064 -0.00943939 -0.02345095  0.06169621 -0.06871905 -0.00836158\n  0.00672779 -0.00943939  0.04768465  0.02181716 -0.01806189 -0.03207345\n -0.046085   -0.01375064 -0.01159501  0.00133873 -0.00836158  0.01858372\n -0.0547075  -0.03638469  0.02397278  0.04552903 -0.03638469 -0.01159501\n -0.03099563 -0.02991782  0.00564998  0.00133873  0.01211685 -0.03099563\n -0.02452876  0.01750591 -0.02560657 -0.07518592 -0.06225218  0.02289497\n -0.03961813 -0.0644078  -0.06764124  0.03043966 -0.00728377 -0.01806189\n -0.07195249 -0.04069594  0.00241654  0.0347509  -0.02560657 -0.00728377\n -0.03854031  0.09618619 -0.0547075   0.06061839 -0.02345095  0.06169621\n -0.05578531  0.00996123 -0.00512814 -0.03854031 -0.03315126 -0.00836158\n  0.16085492 -0.01698408 -0.01159501 -0.05794093  0.06924089 -0.02668438\n -0.046085   -0.03961813 -0.04177375  0.05954058  0.04552903 -0.02452876\n -0.02991782  0.01535029  0.00564998 -0.04716281  0.00457217 -0.03315126\n -0.06979687 -0.04069594  0.03906215  0.12744275  0.00564998  0.03043966\n -0.03961813  0.01750591 -0.02884001 -0.08057499  0.0519959  -0.03530688\n -0.00081689 -0.04716281 -0.08488624  0.01858372 -0.06332999  0.0519959\n -0.05578531  0.01858372 -0.0105172  -0.03207345 -0.05039625 -0.02021751\n -0.02991782  0.07139651 -0.01590626 -0.0191397  -0.06225218  0.07678557\n -0.02129532 -0.03530688 -0.05794093  0.07247433 -0.00405033  0.05415152\n  0.00133873 -0.06548562  0.12528712 -0.00189471 -0.01806189 -0.00081689\n -0.01698408  0.01535029 -0.03315126  0.09295276 -0.02021751 -0.0277622\n  0.02720622 -0.0644078  -0.03315126 -0.04824062  0.00349435 -0.046085\n  0.00133873  0.05415152 -0.02560657 -0.00405033 -0.00620595 -0.01267283\n -0.06656343 -0.01267283 -0.03422907  0.00996123  0.08864151  0.01427248\n -0.00512814  0.04013997 -0.03099563 -0.04069594 -0.06979687 -0.00620595\n -0.02237314 -0.02345095 -0.05901875  0.03690653  0.03906215  0.00564998\n  0.0250506   0.09834182 -0.00728377 -0.03099563 -0.02129532 -0.0730303\n  0.07139651].\nReshape your data either using array.reshape(-1, 1) if your data has a single feature or array.reshape(1, -1) if it contains a single sample.",
     "output_type": "error",
     "traceback": [
      "\u001b[1;31m---------------------------------------------------------------------------\u001b[0m",
      "\u001b[1;31mValueError\u001b[0m                                Traceback (most recent call last)",
      "\u001b[1;32m<ipython-input-242-f52f6be663d9>\u001b[0m in \u001b[0;36m<module>\u001b[1;34m\u001b[0m\n\u001b[0;32m      1\u001b[0m \u001b[0mregr_1\u001b[0m \u001b[1;33m=\u001b[0m \u001b[0mDecisionTreeRegressor\u001b[0m\u001b[1;33m(\u001b[0m\u001b[0mmax_depth\u001b[0m\u001b[1;33m=\u001b[0m\u001b[1;36m5\u001b[0m\u001b[1;33m)\u001b[0m\u001b[1;33m\u001b[0m\u001b[1;33m\u001b[0m\u001b[0m\n\u001b[1;32m----> 2\u001b[1;33m \u001b[0mregr1\u001b[0m\u001b[1;33m=\u001b[0m\u001b[0mregr_1\u001b[0m\u001b[1;33m.\u001b[0m\u001b[0mfit\u001b[0m\u001b[1;33m(\u001b[0m\u001b[0mX_train\u001b[0m\u001b[1;33m,\u001b[0m \u001b[0my_train\u001b[0m\u001b[1;33m)\u001b[0m\u001b[1;33m\u001b[0m\u001b[1;33m\u001b[0m\u001b[0m\n\u001b[0m",
      "\u001b[1;32m~\\Anaconda3\\lib\\site-packages\\sklearn\\tree\\tree.py\u001b[0m in \u001b[0;36mfit\u001b[1;34m(self, X, y, sample_weight, check_input, X_idx_sorted)\u001b[0m\n\u001b[0;32m   1140\u001b[0m             \u001b[0msample_weight\u001b[0m\u001b[1;33m=\u001b[0m\u001b[0msample_weight\u001b[0m\u001b[1;33m,\u001b[0m\u001b[1;33m\u001b[0m\u001b[1;33m\u001b[0m\u001b[0m\n\u001b[0;32m   1141\u001b[0m             \u001b[0mcheck_input\u001b[0m\u001b[1;33m=\u001b[0m\u001b[0mcheck_input\u001b[0m\u001b[1;33m,\u001b[0m\u001b[1;33m\u001b[0m\u001b[1;33m\u001b[0m\u001b[0m\n\u001b[1;32m-> 1142\u001b[1;33m             X_idx_sorted=X_idx_sorted)\n\u001b[0m\u001b[0;32m   1143\u001b[0m         \u001b[1;32mreturn\u001b[0m \u001b[0mself\u001b[0m\u001b[1;33m\u001b[0m\u001b[1;33m\u001b[0m\u001b[0m\n\u001b[0;32m   1144\u001b[0m \u001b[1;33m\u001b[0m\u001b[0m\n",
      "\u001b[1;32m~\\Anaconda3\\lib\\site-packages\\sklearn\\tree\\tree.py\u001b[0m in \u001b[0;36mfit\u001b[1;34m(self, X, y, sample_weight, check_input, X_idx_sorted)\u001b[0m\n\u001b[0;32m    114\u001b[0m         \u001b[0mrandom_state\u001b[0m \u001b[1;33m=\u001b[0m \u001b[0mcheck_random_state\u001b[0m\u001b[1;33m(\u001b[0m\u001b[0mself\u001b[0m\u001b[1;33m.\u001b[0m\u001b[0mrandom_state\u001b[0m\u001b[1;33m)\u001b[0m\u001b[1;33m\u001b[0m\u001b[1;33m\u001b[0m\u001b[0m\n\u001b[0;32m    115\u001b[0m         \u001b[1;32mif\u001b[0m \u001b[0mcheck_input\u001b[0m\u001b[1;33m:\u001b[0m\u001b[1;33m\u001b[0m\u001b[1;33m\u001b[0m\u001b[0m\n\u001b[1;32m--> 116\u001b[1;33m             \u001b[0mX\u001b[0m \u001b[1;33m=\u001b[0m \u001b[0mcheck_array\u001b[0m\u001b[1;33m(\u001b[0m\u001b[0mX\u001b[0m\u001b[1;33m,\u001b[0m \u001b[0mdtype\u001b[0m\u001b[1;33m=\u001b[0m\u001b[0mDTYPE\u001b[0m\u001b[1;33m,\u001b[0m \u001b[0maccept_sparse\u001b[0m\u001b[1;33m=\u001b[0m\u001b[1;34m\"csc\"\u001b[0m\u001b[1;33m)\u001b[0m\u001b[1;33m\u001b[0m\u001b[1;33m\u001b[0m\u001b[0m\n\u001b[0m\u001b[0;32m    117\u001b[0m             \u001b[0my\u001b[0m \u001b[1;33m=\u001b[0m \u001b[0mcheck_array\u001b[0m\u001b[1;33m(\u001b[0m\u001b[0my\u001b[0m\u001b[1;33m,\u001b[0m \u001b[0mensure_2d\u001b[0m\u001b[1;33m=\u001b[0m\u001b[1;32mFalse\u001b[0m\u001b[1;33m,\u001b[0m \u001b[0mdtype\u001b[0m\u001b[1;33m=\u001b[0m\u001b[1;32mNone\u001b[0m\u001b[1;33m)\u001b[0m\u001b[1;33m\u001b[0m\u001b[1;33m\u001b[0m\u001b[0m\n\u001b[0;32m    118\u001b[0m             \u001b[1;32mif\u001b[0m \u001b[0missparse\u001b[0m\u001b[1;33m(\u001b[0m\u001b[0mX\u001b[0m\u001b[1;33m)\u001b[0m\u001b[1;33m:\u001b[0m\u001b[1;33m\u001b[0m\u001b[1;33m\u001b[0m\u001b[0m\n",
      "\u001b[1;32m~\\Anaconda3\\lib\\site-packages\\sklearn\\utils\\validation.py\u001b[0m in \u001b[0;36mcheck_array\u001b[1;34m(array, accept_sparse, accept_large_sparse, dtype, order, copy, force_all_finite, ensure_2d, allow_nd, ensure_min_samples, ensure_min_features, warn_on_dtype, estimator)\u001b[0m\n\u001b[0;32m    550\u001b[0m                     \u001b[1;34m\"Reshape your data either using array.reshape(-1, 1) if \"\u001b[0m\u001b[1;33m\u001b[0m\u001b[1;33m\u001b[0m\u001b[0m\n\u001b[0;32m    551\u001b[0m                     \u001b[1;34m\"your data has a single feature or array.reshape(1, -1) \"\u001b[0m\u001b[1;33m\u001b[0m\u001b[1;33m\u001b[0m\u001b[0m\n\u001b[1;32m--> 552\u001b[1;33m                     \"if it contains a single sample.\".format(array))\n\u001b[0m\u001b[0;32m    553\u001b[0m \u001b[1;33m\u001b[0m\u001b[0m\n\u001b[0;32m    554\u001b[0m         \u001b[1;31m# in the future np.flexible dtypes will be handled like object dtypes\u001b[0m\u001b[1;33m\u001b[0m\u001b[1;33m\u001b[0m\u001b[1;33m\u001b[0m\u001b[0m\n",
      "\u001b[1;31mValueError\u001b[0m: Expected 2D array, got 1D array instead:\narray=[-0.05686312 -0.05578531 -0.0902753  -0.02560657  0.07355214  0.07462995\n -0.03854031  0.12313149 -0.04392938 -0.03099563 -0.02560657 -0.04931844\n  0.05630714 -0.05578531 -0.02237314  0.01427248  0.03798434  0.06708527\n  0.00672779  0.0164281  -0.00728377  0.00888341  0.00026092 -0.06656343\n  0.05954058  0.05630714 -0.02452876 -0.07626374 -0.03638469 -0.0374625\n  0.08540807  0.00241654  0.01535029 -0.05686312 -0.04824062 -0.0644078\n -0.03530688  0.00672779 -0.00836158  0.00457217 -0.0105172   0.12852055\n  0.07031871  0.06169621 -0.046085   -0.00836158 -0.03099563 -0.01806189\n  0.02612841  0.08540807  0.01427248 -0.04500719 -0.00297252 -0.0816528\n -0.02452876  0.01211685  0.05954058 -0.02021751 -0.03961813  0.04445121\n  0.11019775 -0.01482845  0.04121778 -0.04177375 -0.02452876  0.01966154\n -0.04177375  0.05846277  0.05954058  0.17055522  0.00457217 -0.06548562\n  0.02073935  0.0347509  -0.0816528  -0.046085   -0.03854031 -0.06117437\n -0.046085    0.10480869  0.01103904 -0.05362969 -0.05039625 -0.0547075\n  0.03043966 -0.06332999  0.06816308  0.08864151  0.07139651  0.00457217\n  0.06924089 -0.04500719 -0.07949717 -0.01590626  0.00672779 -0.06009656\n  0.06816308  0.05630714  0.04552903  0.09295276 -0.01159501  0.04984028\n -0.02345095 -0.07734155 -0.02021751  0.04984028  0.07786339 -0.03207345\n  0.03367309 -0.00620595 -0.04285156 -0.03422907 -0.02452876  0.0164281\n -0.03854031 -0.06979687  0.03151747  0.05522933  0.05954058  0.04445121\n -0.03638469 -0.0105172  -0.06548562  0.07139651  0.01750591  0.11127556\n  0.00349435  0.06492964  0.06492964 -0.00189471  0.04013997  0.09403057\n -0.02021751 -0.06656343 -0.03315126 -0.03099563  0.07139651  0.00672779\n  0.03906215  0.09295276  0.01966154  0.01427248 -0.01482845  0.03582872\n  0.03906215  0.03582872 -0.02345095  0.0164281   0.00457217 -0.06009656\n -0.05794093 -0.00836158 -0.03422907 -0.0374625  -0.03099563  0.06061839\n -0.00189471 -0.00620595 -0.07410812 -0.01267283  0.06385183  0.00996123\n -0.01590626  0.08001901 -0.03207345 -0.00512814 -0.00081689  0.04229559\n -0.01375064 -0.00943939 -0.02345095  0.06169621 -0.06871905 -0.00836158\n  0.00672779 -0.00943939  0.04768465  0.02181716 -0.01806189 -0.03207345\n -0.046085   -0.01375064 -0.01159501  0.00133873 -0.00836158  0.01858372\n -0.0547075  -0.03638469  0.02397278  0.04552903 -0.03638469 -0.01159501\n -0.03099563 -0.02991782  0.00564998  0.00133873  0.01211685 -0.03099563\n -0.02452876  0.01750591 -0.02560657 -0.07518592 -0.06225218  0.02289497\n -0.03961813 -0.0644078  -0.06764124  0.03043966 -0.00728377 -0.01806189\n -0.07195249 -0.04069594  0.00241654  0.0347509  -0.02560657 -0.00728377\n -0.03854031  0.09618619 -0.0547075   0.06061839 -0.02345095  0.06169621\n -0.05578531  0.00996123 -0.00512814 -0.03854031 -0.03315126 -0.00836158\n  0.16085492 -0.01698408 -0.01159501 -0.05794093  0.06924089 -0.02668438\n -0.046085   -0.03961813 -0.04177375  0.05954058  0.04552903 -0.02452876\n -0.02991782  0.01535029  0.00564998 -0.04716281  0.00457217 -0.03315126\n -0.06979687 -0.04069594  0.03906215  0.12744275  0.00564998  0.03043966\n -0.03961813  0.01750591 -0.02884001 -0.08057499  0.0519959  -0.03530688\n -0.00081689 -0.04716281 -0.08488624  0.01858372 -0.06332999  0.0519959\n -0.05578531  0.01858372 -0.0105172  -0.03207345 -0.05039625 -0.02021751\n -0.02991782  0.07139651 -0.01590626 -0.0191397  -0.06225218  0.07678557\n -0.02129532 -0.03530688 -0.05794093  0.07247433 -0.00405033  0.05415152\n  0.00133873 -0.06548562  0.12528712 -0.00189471 -0.01806189 -0.00081689\n -0.01698408  0.01535029 -0.03315126  0.09295276 -0.02021751 -0.0277622\n  0.02720622 -0.0644078  -0.03315126 -0.04824062  0.00349435 -0.046085\n  0.00133873  0.05415152 -0.02560657 -0.00405033 -0.00620595 -0.01267283\n -0.06656343 -0.01267283 -0.03422907  0.00996123  0.08864151  0.01427248\n -0.00512814  0.04013997 -0.03099563 -0.04069594 -0.06979687 -0.00620595\n -0.02237314 -0.02345095 -0.05901875  0.03690653  0.03906215  0.00564998\n  0.0250506   0.09834182 -0.00728377 -0.03099563 -0.02129532 -0.0730303\n  0.07139651].\nReshape your data either using array.reshape(-1, 1) if your data has a single feature or array.reshape(1, -1) if it contains a single sample."
     ]
    }
   ],
   "source": [
    "regr_1 = DecisionTreeRegressor(max_depth=5)\n",
    "regr1=regr_1.fit(X_train, y_train)"
   ]
  },
  {
   "cell_type": "code",
   "execution_count": 177,
   "metadata": {},
   "outputs": [
    {
     "ename": "NotFittedError",
     "evalue": "This DecisionTreeRegressor instance is not fitted yet. Call 'fit' with appropriate arguments before using this method.",
     "output_type": "error",
     "traceback": [
      "\u001b[1;31m---------------------------------------------------------------------------\u001b[0m",
      "\u001b[1;31mNotFittedError\u001b[0m                            Traceback (most recent call last)",
      "\u001b[1;32m<ipython-input-177-a8a854e80d21>\u001b[0m in \u001b[0;36m<module>\u001b[1;34m\u001b[0m\n\u001b[1;32m----> 1\u001b[1;33m \u001b[0my_1\u001b[0m \u001b[1;33m=\u001b[0m \u001b[0mregr_1\u001b[0m\u001b[1;33m.\u001b[0m\u001b[0mpredict\u001b[0m\u001b[1;33m(\u001b[0m\u001b[0mX_test\u001b[0m\u001b[1;33m)\u001b[0m\u001b[1;33m\u001b[0m\u001b[1;33m\u001b[0m\u001b[0m\n\u001b[0m\u001b[0;32m      2\u001b[0m \u001b[0my_test\u001b[0m\u001b[1;33m.\u001b[0m\u001b[0mshape\u001b[0m\u001b[1;33m[\u001b[0m\u001b[1;36m0\u001b[0m\u001b[1;33m]\u001b[0m\u001b[1;33m\u001b[0m\u001b[1;33m\u001b[0m\u001b[0m\n",
      "\u001b[1;32m~\\Anaconda3\\lib\\site-packages\\sklearn\\tree\\tree.py\u001b[0m in \u001b[0;36mpredict\u001b[1;34m(self, X, check_input)\u001b[0m\n\u001b[0;32m    413\u001b[0m             \u001b[0mThe\u001b[0m \u001b[0mpredicted\u001b[0m \u001b[0mclasses\u001b[0m\u001b[1;33m,\u001b[0m \u001b[1;32mor\u001b[0m \u001b[0mthe\u001b[0m \u001b[0mpredict\u001b[0m \u001b[0mvalues\u001b[0m\u001b[1;33m.\u001b[0m\u001b[1;33m\u001b[0m\u001b[1;33m\u001b[0m\u001b[0m\n\u001b[0;32m    414\u001b[0m         \"\"\"\n\u001b[1;32m--> 415\u001b[1;33m         \u001b[0mcheck_is_fitted\u001b[0m\u001b[1;33m(\u001b[0m\u001b[0mself\u001b[0m\u001b[1;33m,\u001b[0m \u001b[1;34m'tree_'\u001b[0m\u001b[1;33m)\u001b[0m\u001b[1;33m\u001b[0m\u001b[1;33m\u001b[0m\u001b[0m\n\u001b[0m\u001b[0;32m    416\u001b[0m         \u001b[0mX\u001b[0m \u001b[1;33m=\u001b[0m \u001b[0mself\u001b[0m\u001b[1;33m.\u001b[0m\u001b[0m_validate_X_predict\u001b[0m\u001b[1;33m(\u001b[0m\u001b[0mX\u001b[0m\u001b[1;33m,\u001b[0m \u001b[0mcheck_input\u001b[0m\u001b[1;33m)\u001b[0m\u001b[1;33m\u001b[0m\u001b[1;33m\u001b[0m\u001b[0m\n\u001b[0;32m    417\u001b[0m         \u001b[0mproba\u001b[0m \u001b[1;33m=\u001b[0m \u001b[0mself\u001b[0m\u001b[1;33m.\u001b[0m\u001b[0mtree_\u001b[0m\u001b[1;33m.\u001b[0m\u001b[0mpredict\u001b[0m\u001b[1;33m(\u001b[0m\u001b[0mX\u001b[0m\u001b[1;33m)\u001b[0m\u001b[1;33m\u001b[0m\u001b[1;33m\u001b[0m\u001b[0m\n",
      "\u001b[1;32m~\\Anaconda3\\lib\\site-packages\\sklearn\\utils\\validation.py\u001b[0m in \u001b[0;36mcheck_is_fitted\u001b[1;34m(estimator, attributes, msg, all_or_any)\u001b[0m\n\u001b[0;32m    949\u001b[0m \u001b[1;33m\u001b[0m\u001b[0m\n\u001b[0;32m    950\u001b[0m     \u001b[1;32mif\u001b[0m \u001b[1;32mnot\u001b[0m \u001b[0mall_or_any\u001b[0m\u001b[1;33m(\u001b[0m\u001b[1;33m[\u001b[0m\u001b[0mhasattr\u001b[0m\u001b[1;33m(\u001b[0m\u001b[0mestimator\u001b[0m\u001b[1;33m,\u001b[0m \u001b[0mattr\u001b[0m\u001b[1;33m)\u001b[0m \u001b[1;32mfor\u001b[0m \u001b[0mattr\u001b[0m \u001b[1;32min\u001b[0m \u001b[0mattributes\u001b[0m\u001b[1;33m]\u001b[0m\u001b[1;33m)\u001b[0m\u001b[1;33m:\u001b[0m\u001b[1;33m\u001b[0m\u001b[1;33m\u001b[0m\u001b[0m\n\u001b[1;32m--> 951\u001b[1;33m         \u001b[1;32mraise\u001b[0m \u001b[0mNotFittedError\u001b[0m\u001b[1;33m(\u001b[0m\u001b[0mmsg\u001b[0m \u001b[1;33m%\u001b[0m \u001b[1;33m{\u001b[0m\u001b[1;34m'name'\u001b[0m\u001b[1;33m:\u001b[0m \u001b[0mtype\u001b[0m\u001b[1;33m(\u001b[0m\u001b[0mestimator\u001b[0m\u001b[1;33m)\u001b[0m\u001b[1;33m.\u001b[0m\u001b[0m__name__\u001b[0m\u001b[1;33m}\u001b[0m\u001b[1;33m)\u001b[0m\u001b[1;33m\u001b[0m\u001b[1;33m\u001b[0m\u001b[0m\n\u001b[0m\u001b[0;32m    952\u001b[0m \u001b[1;33m\u001b[0m\u001b[0m\n\u001b[0;32m    953\u001b[0m \u001b[1;33m\u001b[0m\u001b[0m\n",
      "\u001b[1;31mNotFittedError\u001b[0m: This DecisionTreeRegressor instance is not fitted yet. Call 'fit' with appropriate arguments before using this method."
     ]
    }
   ],
   "source": [
    "y_1 = regr_1.predict(X_test)\n",
    "y_test.shape[0]"
   ]
  },
  {
   "cell_type": "code",
   "execution_count": 178,
   "metadata": {},
   "outputs": [
    {
     "ename": "AttributeError",
     "evalue": "'GridSearchCV' object has no attribute 'best_estimator_'",
     "output_type": "error",
     "traceback": [
      "\u001b[1;31m---------------------------------------------------------------------------\u001b[0m",
      "\u001b[1;31mAttributeError\u001b[0m                            Traceback (most recent call last)",
      "\u001b[1;32m<ipython-input-178-34d48e812710>\u001b[0m in \u001b[0;36m<module>\u001b[1;34m\u001b[0m\n\u001b[1;32m----> 1\u001b[1;33m \u001b[0mclf_gs\u001b[0m\u001b[1;33m.\u001b[0m\u001b[0mbest_estimator_\u001b[0m\u001b[1;33m\u001b[0m\u001b[1;33m\u001b[0m\u001b[0m\n\u001b[0m",
      "\u001b[1;31mAttributeError\u001b[0m: 'GridSearchCV' object has no attribute 'best_estimator_'"
     ]
    }
   ],
   "source": [
    "clf_gs.best_estimator_"
   ]
  },
  {
   "cell_type": "code",
   "execution_count": 179,
   "metadata": {},
   "outputs": [
    {
     "ename": "ValueError",
     "evalue": "Expected 2D array, got 1D array instead:\narray=[ 0.10480869  0.06061839  0.00888341 -0.02345095  0.04552903  0.09726401\n -0.02884001  0.02289497  0.05415152  0.04660684 -0.05794093  0.04660684\n -0.0374625  -0.046085    0.08864151 -0.02237314 -0.05901875 -0.05147406\n -0.08380842  0.04013997  0.02828403  0.01103904 -0.02452876  0.05846277\n  0.05522933  0.01750591 -0.04177375 -0.04500719  0.00457217  0.02612841\n -0.00297252 -0.05255187 -0.0105172  -0.01159501 -0.00620595  0.02073935\n -0.01590626 -0.00943939  0.00133873  0.03367309 -0.06548562 -0.0105172\n -0.00728377 -0.00405033  0.03043966 -0.06117437 -0.0191397   0.0250506\n -0.03315126  0.03367309 -0.02237314 -0.04716281  0.01858372 -0.00836158\n  0.0433734  -0.01806189  0.03043966 -0.00405033 -0.00512814  0.01211685\n  0.04121778  0.02397278  0.04984028 -0.02129532  0.06061839  0.02828403\n -0.06225218  0.04768465  0.04229559 -0.0730303  -0.02560657 -0.02560657\n -0.02991782  0.03690653  0.00564998 -0.02452876 -0.01590626  0.06061839\n  0.08109682  0.02612841 -0.00297252  0.00996123 -0.02021751  0.01427248\n -0.08919749 -0.07087468  0.0433734   0.01427248 -0.00943939  0.00241654\n -0.07734155 -0.03530688  0.00133873  0.02073935 -0.03638469 -0.04069594\n  0.03259528  0.114509    0.02828403  0.06169621 -0.01267283 -0.04069594\n -0.00943939 -0.05794093  0.05307371 -0.00189471  0.05415152  0.13714305\n -0.00405033 -0.02991782  0.01966154].\nReshape your data either using array.reshape(-1, 1) if your data has a single feature or array.reshape(1, -1) if it contains a single sample.",
     "output_type": "error",
     "traceback": [
      "\u001b[1;31m---------------------------------------------------------------------------\u001b[0m",
      "\u001b[1;31mValueError\u001b[0m                                Traceback (most recent call last)",
      "\u001b[1;32m<ipython-input-179-9431cc2081ff>\u001b[0m in \u001b[0;36m<module>\u001b[1;34m\u001b[0m\n\u001b[1;32m----> 1\u001b[1;33m \u001b[0mregr1\u001b[0m\u001b[1;33m.\u001b[0m\u001b[0mscore\u001b[0m\u001b[1;33m(\u001b[0m\u001b[0mX_test\u001b[0m\u001b[1;33m,\u001b[0m\u001b[0my_array_regr\u001b[0m\u001b[1;33m)\u001b[0m\u001b[1;33m\u001b[0m\u001b[1;33m\u001b[0m\u001b[0m\n\u001b[0m",
      "\u001b[1;32m~\\Anaconda3\\lib\\site-packages\\sklearn\\base.py\u001b[0m in \u001b[0;36mscore\u001b[1;34m(self, X, y, sample_weight)\u001b[0m\n\u001b[0;32m    326\u001b[0m \u001b[1;33m\u001b[0m\u001b[0m\n\u001b[0;32m    327\u001b[0m         \u001b[1;32mfrom\u001b[0m \u001b[1;33m.\u001b[0m\u001b[0mmetrics\u001b[0m \u001b[1;32mimport\u001b[0m \u001b[0mr2_score\u001b[0m\u001b[1;33m\u001b[0m\u001b[1;33m\u001b[0m\u001b[0m\n\u001b[1;32m--> 328\u001b[1;33m         return r2_score(y, self.predict(X), sample_weight=sample_weight,\n\u001b[0m\u001b[0;32m    329\u001b[0m                         multioutput='variance_weighted')\n\u001b[0;32m    330\u001b[0m \u001b[1;33m\u001b[0m\u001b[0m\n",
      "\u001b[1;32m~\\Anaconda3\\lib\\site-packages\\sklearn\\tree\\tree.py\u001b[0m in \u001b[0;36mpredict\u001b[1;34m(self, X, check_input)\u001b[0m\n\u001b[0;32m    414\u001b[0m         \"\"\"\n\u001b[0;32m    415\u001b[0m         \u001b[0mcheck_is_fitted\u001b[0m\u001b[1;33m(\u001b[0m\u001b[0mself\u001b[0m\u001b[1;33m,\u001b[0m \u001b[1;34m'tree_'\u001b[0m\u001b[1;33m)\u001b[0m\u001b[1;33m\u001b[0m\u001b[1;33m\u001b[0m\u001b[0m\n\u001b[1;32m--> 416\u001b[1;33m         \u001b[0mX\u001b[0m \u001b[1;33m=\u001b[0m \u001b[0mself\u001b[0m\u001b[1;33m.\u001b[0m\u001b[0m_validate_X_predict\u001b[0m\u001b[1;33m(\u001b[0m\u001b[0mX\u001b[0m\u001b[1;33m,\u001b[0m \u001b[0mcheck_input\u001b[0m\u001b[1;33m)\u001b[0m\u001b[1;33m\u001b[0m\u001b[1;33m\u001b[0m\u001b[0m\n\u001b[0m\u001b[0;32m    417\u001b[0m         \u001b[0mproba\u001b[0m \u001b[1;33m=\u001b[0m \u001b[0mself\u001b[0m\u001b[1;33m.\u001b[0m\u001b[0mtree_\u001b[0m\u001b[1;33m.\u001b[0m\u001b[0mpredict\u001b[0m\u001b[1;33m(\u001b[0m\u001b[0mX\u001b[0m\u001b[1;33m)\u001b[0m\u001b[1;33m\u001b[0m\u001b[1;33m\u001b[0m\u001b[0m\n\u001b[0;32m    418\u001b[0m         \u001b[0mn_samples\u001b[0m \u001b[1;33m=\u001b[0m \u001b[0mX\u001b[0m\u001b[1;33m.\u001b[0m\u001b[0mshape\u001b[0m\u001b[1;33m[\u001b[0m\u001b[1;36m0\u001b[0m\u001b[1;33m]\u001b[0m\u001b[1;33m\u001b[0m\u001b[1;33m\u001b[0m\u001b[0m\n",
      "\u001b[1;32m~\\Anaconda3\\lib\\site-packages\\sklearn\\tree\\tree.py\u001b[0m in \u001b[0;36m_validate_X_predict\u001b[1;34m(self, X, check_input)\u001b[0m\n\u001b[0;32m    375\u001b[0m         \u001b[1;34m\"\"\"Validate X whenever one tries to predict, apply, predict_proba\"\"\"\u001b[0m\u001b[1;33m\u001b[0m\u001b[1;33m\u001b[0m\u001b[0m\n\u001b[0;32m    376\u001b[0m         \u001b[1;32mif\u001b[0m \u001b[0mcheck_input\u001b[0m\u001b[1;33m:\u001b[0m\u001b[1;33m\u001b[0m\u001b[1;33m\u001b[0m\u001b[0m\n\u001b[1;32m--> 377\u001b[1;33m             \u001b[0mX\u001b[0m \u001b[1;33m=\u001b[0m \u001b[0mcheck_array\u001b[0m\u001b[1;33m(\u001b[0m\u001b[0mX\u001b[0m\u001b[1;33m,\u001b[0m \u001b[0mdtype\u001b[0m\u001b[1;33m=\u001b[0m\u001b[0mDTYPE\u001b[0m\u001b[1;33m,\u001b[0m \u001b[0maccept_sparse\u001b[0m\u001b[1;33m=\u001b[0m\u001b[1;34m\"csr\"\u001b[0m\u001b[1;33m)\u001b[0m\u001b[1;33m\u001b[0m\u001b[1;33m\u001b[0m\u001b[0m\n\u001b[0m\u001b[0;32m    378\u001b[0m             if issparse(X) and (X.indices.dtype != np.intc or\n\u001b[0;32m    379\u001b[0m                                 X.indptr.dtype != np.intc):\n",
      "\u001b[1;32m~\\Anaconda3\\lib\\site-packages\\sklearn\\utils\\validation.py\u001b[0m in \u001b[0;36mcheck_array\u001b[1;34m(array, accept_sparse, accept_large_sparse, dtype, order, copy, force_all_finite, ensure_2d, allow_nd, ensure_min_samples, ensure_min_features, warn_on_dtype, estimator)\u001b[0m\n\u001b[0;32m    550\u001b[0m                     \u001b[1;34m\"Reshape your data either using array.reshape(-1, 1) if \"\u001b[0m\u001b[1;33m\u001b[0m\u001b[1;33m\u001b[0m\u001b[0m\n\u001b[0;32m    551\u001b[0m                     \u001b[1;34m\"your data has a single feature or array.reshape(1, -1) \"\u001b[0m\u001b[1;33m\u001b[0m\u001b[1;33m\u001b[0m\u001b[0m\n\u001b[1;32m--> 552\u001b[1;33m                     \"if it contains a single sample.\".format(array))\n\u001b[0m\u001b[0;32m    553\u001b[0m \u001b[1;33m\u001b[0m\u001b[0m\n\u001b[0;32m    554\u001b[0m         \u001b[1;31m# in the future np.flexible dtypes will be handled like object dtypes\u001b[0m\u001b[1;33m\u001b[0m\u001b[1;33m\u001b[0m\u001b[1;33m\u001b[0m\u001b[0m\n",
      "\u001b[1;31mValueError\u001b[0m: Expected 2D array, got 1D array instead:\narray=[ 0.10480869  0.06061839  0.00888341 -0.02345095  0.04552903  0.09726401\n -0.02884001  0.02289497  0.05415152  0.04660684 -0.05794093  0.04660684\n -0.0374625  -0.046085    0.08864151 -0.02237314 -0.05901875 -0.05147406\n -0.08380842  0.04013997  0.02828403  0.01103904 -0.02452876  0.05846277\n  0.05522933  0.01750591 -0.04177375 -0.04500719  0.00457217  0.02612841\n -0.00297252 -0.05255187 -0.0105172  -0.01159501 -0.00620595  0.02073935\n -0.01590626 -0.00943939  0.00133873  0.03367309 -0.06548562 -0.0105172\n -0.00728377 -0.00405033  0.03043966 -0.06117437 -0.0191397   0.0250506\n -0.03315126  0.03367309 -0.02237314 -0.04716281  0.01858372 -0.00836158\n  0.0433734  -0.01806189  0.03043966 -0.00405033 -0.00512814  0.01211685\n  0.04121778  0.02397278  0.04984028 -0.02129532  0.06061839  0.02828403\n -0.06225218  0.04768465  0.04229559 -0.0730303  -0.02560657 -0.02560657\n -0.02991782  0.03690653  0.00564998 -0.02452876 -0.01590626  0.06061839\n  0.08109682  0.02612841 -0.00297252  0.00996123 -0.02021751  0.01427248\n -0.08919749 -0.07087468  0.0433734   0.01427248 -0.00943939  0.00241654\n -0.07734155 -0.03530688  0.00133873  0.02073935 -0.03638469 -0.04069594\n  0.03259528  0.114509    0.02828403  0.06169621 -0.01267283 -0.04069594\n -0.00943939 -0.05794093  0.05307371 -0.00189471  0.05415152  0.13714305\n -0.00405033 -0.02991782  0.01966154].\nReshape your data either using array.reshape(-1, 1) if your data has a single feature or array.reshape(1, -1) if it contains a single sample."
     ]
    }
   ],
   "source": [
    "regr1.score(X_test,y_array_regr)"
   ]
  },
  {
   "cell_type": "code",
   "execution_count": null,
   "metadata": {},
   "outputs": [],
   "source": []
  },
  {
   "cell_type": "code",
   "execution_count": null,
   "metadata": {},
   "outputs": [],
   "source": []
  }
 ],
 "metadata": {
  "kernelspec": {
   "display_name": "Python 3",
   "language": "python",
   "name": "python3"
  },
  "language_info": {
   "codemirror_mode": {
    "name": "ipython",
    "version": 3
   },
   "file_extension": ".py",
   "mimetype": "text/x-python",
   "name": "python",
   "nbconvert_exporter": "python",
   "pygments_lexer": "ipython3",
   "version": "3.7.1"
  }
 },
 "nbformat": 4,
 "nbformat_minor": 2
}
